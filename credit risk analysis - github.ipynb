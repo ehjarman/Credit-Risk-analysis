{
 "cells": [
  {
   "cell_type": "code",
   "execution_count": 2,
   "metadata": {},
   "outputs": [],
   "source": [
    "#inport as needed and select params\n",
    "import pandas as pd\n",
    "import numpy as np\n",
    "import seaborn as sns\n",
    "import plotly.express as px\n",
    "import matplotlib.pyplot as plt\n",
    "\n",
    "\n",
    "\n",
    "plt.rcParams['figure.figsize'] = (15,6)"
   ]
  },
  {
   "cell_type": "code",
   "execution_count": 3,
   "metadata": {},
   "outputs": [],
   "source": [
    "#about the data\n",
    "#The original dataset contains 1000 entries with 20 categorial/symbolic attributes prepared by Prof. Hofmann.\n",
    "#In this dataset, each entry represents a person who takes a credit by a bank. \n",
    "#Each person is classified as good or bad credit risks according to the set of attributes.\n",
    "\n",
    "#job category (0 - unskilled and non-resident, 1 - unskilled and resident, 2 - skilled, 3 - hghly skilled)\n",
    "\n",
    "\n",
    "#read in file\n",
    "df = pd.read_csv(\".../german_credit_data.csv\")"
   ]
  },
  {
   "cell_type": "code",
   "execution_count": 4,
   "metadata": {},
   "outputs": [
    {
     "name": "stdout",
     "output_type": "stream",
     "text": [
      "The shape of the matrix is 10 categories by 1000 rows\n",
      "\n",
      "<class 'pandas.core.frame.DataFrame'>\n",
      "RangeIndex: 1000 entries, 0 to 999\n",
      "Data columns (total 10 columns):\n",
      " #   Column            Non-Null Count  Dtype \n",
      "---  ------            --------------  ----- \n",
      " 0   Unnamed: 0        1000 non-null   int64 \n",
      " 1   Age               1000 non-null   int64 \n",
      " 2   Sex               1000 non-null   object\n",
      " 3   Job               1000 non-null   int64 \n",
      " 4   Housing           1000 non-null   object\n",
      " 5   Saving accounts   817 non-null    object\n",
      " 6   Checking account  606 non-null    object\n",
      " 7   Credit amount     1000 non-null   int64 \n",
      " 8   Duration          1000 non-null   int64 \n",
      " 9   Purpose           1000 non-null   object\n",
      "dtypes: int64(5), object(5)\n",
      "memory usage: 78.2+ KB\n"
     ]
    }
   ],
   "source": [
    "#Get first look at data\n",
    "print('The shape of the matrix is', df.shape[1], 'categories by', df.shape[0], 'rows\\n')\n",
    "\n",
    "df.info()"
   ]
  },
  {
   "cell_type": "code",
   "execution_count": 5,
   "metadata": {},
   "outputs": [
    {
     "data": {
      "text/html": [
       "<div>\n",
       "<style scoped>\n",
       "    .dataframe tbody tr th:only-of-type {\n",
       "        vertical-align: middle;\n",
       "    }\n",
       "\n",
       "    .dataframe tbody tr th {\n",
       "        vertical-align: top;\n",
       "    }\n",
       "\n",
       "    .dataframe thead th {\n",
       "        text-align: right;\n",
       "    }\n",
       "</style>\n",
       "<table border=\"1\" class=\"dataframe\">\n",
       "  <thead>\n",
       "    <tr style=\"text-align: right;\">\n",
       "      <th></th>\n",
       "      <th>Unnamed: 0</th>\n",
       "      <th>Age</th>\n",
       "      <th>Sex</th>\n",
       "      <th>Job</th>\n",
       "      <th>Housing</th>\n",
       "      <th>Saving accounts</th>\n",
       "      <th>Checking account</th>\n",
       "      <th>Credit amount</th>\n",
       "      <th>Duration</th>\n",
       "      <th>Purpose</th>\n",
       "    </tr>\n",
       "  </thead>\n",
       "  <tbody>\n",
       "    <tr>\n",
       "      <th>0</th>\n",
       "      <td>0</td>\n",
       "      <td>67</td>\n",
       "      <td>male</td>\n",
       "      <td>2</td>\n",
       "      <td>own</td>\n",
       "      <td>NaN</td>\n",
       "      <td>little</td>\n",
       "      <td>1169</td>\n",
       "      <td>6</td>\n",
       "      <td>radio/TV</td>\n",
       "    </tr>\n",
       "    <tr>\n",
       "      <th>1</th>\n",
       "      <td>1</td>\n",
       "      <td>22</td>\n",
       "      <td>female</td>\n",
       "      <td>2</td>\n",
       "      <td>own</td>\n",
       "      <td>little</td>\n",
       "      <td>moderate</td>\n",
       "      <td>5951</td>\n",
       "      <td>48</td>\n",
       "      <td>radio/TV</td>\n",
       "    </tr>\n",
       "    <tr>\n",
       "      <th>2</th>\n",
       "      <td>2</td>\n",
       "      <td>49</td>\n",
       "      <td>male</td>\n",
       "      <td>1</td>\n",
       "      <td>own</td>\n",
       "      <td>little</td>\n",
       "      <td>NaN</td>\n",
       "      <td>2096</td>\n",
       "      <td>12</td>\n",
       "      <td>education</td>\n",
       "    </tr>\n",
       "    <tr>\n",
       "      <th>3</th>\n",
       "      <td>3</td>\n",
       "      <td>45</td>\n",
       "      <td>male</td>\n",
       "      <td>2</td>\n",
       "      <td>free</td>\n",
       "      <td>little</td>\n",
       "      <td>little</td>\n",
       "      <td>7882</td>\n",
       "      <td>42</td>\n",
       "      <td>furniture/equipment</td>\n",
       "    </tr>\n",
       "    <tr>\n",
       "      <th>4</th>\n",
       "      <td>4</td>\n",
       "      <td>53</td>\n",
       "      <td>male</td>\n",
       "      <td>2</td>\n",
       "      <td>free</td>\n",
       "      <td>little</td>\n",
       "      <td>little</td>\n",
       "      <td>4870</td>\n",
       "      <td>24</td>\n",
       "      <td>car</td>\n",
       "    </tr>\n",
       "  </tbody>\n",
       "</table>\n",
       "</div>"
      ],
      "text/plain": [
       "   Unnamed: 0  Age     Sex  Job Housing Saving accounts Checking account  \\\n",
       "0           0   67    male    2     own             NaN           little   \n",
       "1           1   22  female    2     own          little         moderate   \n",
       "2           2   49    male    1     own          little              NaN   \n",
       "3           3   45    male    2    free          little           little   \n",
       "4           4   53    male    2    free          little           little   \n",
       "\n",
       "   Credit amount  Duration              Purpose  \n",
       "0           1169         6             radio/TV  \n",
       "1           5951        48             radio/TV  \n",
       "2           2096        12            education  \n",
       "3           7882        42  furniture/equipment  \n",
       "4           4870        24                  car  "
      ]
     },
     "execution_count": 5,
     "metadata": {},
     "output_type": "execute_result"
    }
   ],
   "source": [
    "df.head()"
   ]
  },
  {
   "cell_type": "code",
   "execution_count": 21,
   "metadata": {},
   "outputs": [],
   "source": [
    "#Process data as needed\n",
    "df.isnull().sum()\n",
    "\n",
    "if df['Unnamed: 0'].unique().size == df['Unnamed: 0'].size:\n",
    "    print('No duplicate values\\n')\n",
    "\n",
    "df['Saving accounts'].replace(np.nan,'little',inplace=True)\n",
    "df['Checking account'].replace(np.nan,'little',inplace=True)"
   ]
  },
  {
   "cell_type": "code",
   "execution_count": 7,
   "metadata": {},
   "outputs": [
    {
     "data": {
      "text/html": [
       "<div>\n",
       "<style scoped>\n",
       "    .dataframe tbody tr th:only-of-type {\n",
       "        vertical-align: middle;\n",
       "    }\n",
       "\n",
       "    .dataframe tbody tr th {\n",
       "        vertical-align: top;\n",
       "    }\n",
       "\n",
       "    .dataframe thead th {\n",
       "        text-align: right;\n",
       "    }\n",
       "</style>\n",
       "<table border=\"1\" class=\"dataframe\">\n",
       "  <thead>\n",
       "    <tr style=\"text-align: right;\">\n",
       "      <th></th>\n",
       "      <th>count</th>\n",
       "      <th>mean</th>\n",
       "      <th>std</th>\n",
       "      <th>min</th>\n",
       "      <th>25%</th>\n",
       "      <th>50%</th>\n",
       "      <th>75%</th>\n",
       "      <th>max</th>\n",
       "    </tr>\n",
       "  </thead>\n",
       "  <tbody>\n",
       "    <tr>\n",
       "      <th>Unnamed: 0</th>\n",
       "      <td>1000.0</td>\n",
       "      <td>499.500</td>\n",
       "      <td>288.819436</td>\n",
       "      <td>0.0</td>\n",
       "      <td>249.75</td>\n",
       "      <td>499.5</td>\n",
       "      <td>749.25</td>\n",
       "      <td>999.0</td>\n",
       "    </tr>\n",
       "    <tr>\n",
       "      <th>Age</th>\n",
       "      <td>1000.0</td>\n",
       "      <td>35.546</td>\n",
       "      <td>11.375469</td>\n",
       "      <td>19.0</td>\n",
       "      <td>27.00</td>\n",
       "      <td>33.0</td>\n",
       "      <td>42.00</td>\n",
       "      <td>75.0</td>\n",
       "    </tr>\n",
       "    <tr>\n",
       "      <th>Job</th>\n",
       "      <td>1000.0</td>\n",
       "      <td>1.904</td>\n",
       "      <td>0.653614</td>\n",
       "      <td>0.0</td>\n",
       "      <td>2.00</td>\n",
       "      <td>2.0</td>\n",
       "      <td>2.00</td>\n",
       "      <td>3.0</td>\n",
       "    </tr>\n",
       "    <tr>\n",
       "      <th>Credit amount</th>\n",
       "      <td>1000.0</td>\n",
       "      <td>3271.258</td>\n",
       "      <td>2822.736876</td>\n",
       "      <td>250.0</td>\n",
       "      <td>1365.50</td>\n",
       "      <td>2319.5</td>\n",
       "      <td>3972.25</td>\n",
       "      <td>18424.0</td>\n",
       "    </tr>\n",
       "    <tr>\n",
       "      <th>Duration</th>\n",
       "      <td>1000.0</td>\n",
       "      <td>20.903</td>\n",
       "      <td>12.058814</td>\n",
       "      <td>4.0</td>\n",
       "      <td>12.00</td>\n",
       "      <td>18.0</td>\n",
       "      <td>24.00</td>\n",
       "      <td>72.0</td>\n",
       "    </tr>\n",
       "  </tbody>\n",
       "</table>\n",
       "</div>"
      ],
      "text/plain": [
       "                count      mean          std    min      25%     50%      75%  \\\n",
       "Unnamed: 0     1000.0   499.500   288.819436    0.0   249.75   499.5   749.25   \n",
       "Age            1000.0    35.546    11.375469   19.0    27.00    33.0    42.00   \n",
       "Job            1000.0     1.904     0.653614    0.0     2.00     2.0     2.00   \n",
       "Credit amount  1000.0  3271.258  2822.736876  250.0  1365.50  2319.5  3972.25   \n",
       "Duration       1000.0    20.903    12.058814    4.0    12.00    18.0    24.00   \n",
       "\n",
       "                   max  \n",
       "Unnamed: 0       999.0  \n",
       "Age               75.0  \n",
       "Job                3.0  \n",
       "Credit amount  18424.0  \n",
       "Duration          72.0  "
      ]
     },
     "execution_count": 7,
     "metadata": {},
     "output_type": "execute_result"
    }
   ],
   "source": [
    "#Begin analysis\n",
    "df.describe().T\n"
   ]
  },
  {
   "cell_type": "code",
   "execution_count": 8,
   "metadata": {},
   "outputs": [
    {
     "name": "stdout",
     "output_type": "stream",
     "text": [
      "The total number of males is 690 and female is 310\n"
     ]
    },
    {
     "data": {
      "text/plain": [
       "Sex\n",
       "female    2877.774194\n",
       "male      3448.040580\n",
       "Name: Credit amount, dtype: float64"
      ]
     },
     "execution_count": 8,
     "metadata": {},
     "output_type": "execute_result"
    }
   ],
   "source": [
    "print('The total number of males is', df.Sex.value_counts().male, 'and female is', df.Sex.value_counts().female)\n",
    "\n",
    "df.groupby('Sex')['Credit amount'].mean()"
   ]
  },
  {
   "cell_type": "code",
   "execution_count": 9,
   "metadata": {},
   "outputs": [
    {
     "data": {
      "application/vnd.plotly.v1+json": {
       "config": {
        "plotlyServerURL": "https://plot.ly"
       },
       "data": [
        {
         "alignmentgroup": "True",
         "bingroup": "x",
         "histfunc": "sum",
         "hovertemplate": "color=radio/TV<br>x=%{x}<br>sum of y=%{y}<extra></extra>",
         "legendgroup": "radio/TV",
         "marker": {
          "color": "rgb(253, 253, 204)",
          "pattern": {
           "shape": ""
          }
         },
         "name": "radio/TV",
         "offsetgroup": "radio/TV",
         "orientation": "v",
         "showlegend": true,
         "type": "histogram",
         "x": [
          "radio/TV"
         ],
         "xaxis": "x",
         "y": [
          337
         ],
         "yaxis": "y"
        },
        {
         "alignmentgroup": "True",
         "bingroup": "x",
         "histfunc": "sum",
         "hovertemplate": "color=education<br>x=%{x}<br>sum of y=%{y}<extra></extra>",
         "legendgroup": "education",
         "marker": {
          "color": "rgb(206, 236, 179)",
          "pattern": {
           "shape": ""
          }
         },
         "name": "education",
         "offsetgroup": "education",
         "orientation": "v",
         "showlegend": true,
         "type": "histogram",
         "x": [
          "education"
         ],
         "xaxis": "x",
         "y": [
          280
         ],
         "yaxis": "y"
        },
        {
         "alignmentgroup": "True",
         "bingroup": "x",
         "histfunc": "sum",
         "hovertemplate": "color=furniture/equipment<br>x=%{x}<br>sum of y=%{y}<extra></extra>",
         "legendgroup": "furniture/equipment",
         "marker": {
          "color": "rgb(156, 219, 165)",
          "pattern": {
           "shape": ""
          }
         },
         "name": "furniture/equipment",
         "offsetgroup": "furniture/equipment",
         "orientation": "v",
         "showlegend": true,
         "type": "histogram",
         "x": [
          "furniture/equipment"
         ],
         "xaxis": "x",
         "y": [
          181
         ],
         "yaxis": "y"
        },
        {
         "alignmentgroup": "True",
         "bingroup": "x",
         "histfunc": "sum",
         "hovertemplate": "color=car<br>x=%{x}<br>sum of y=%{y}<extra></extra>",
         "legendgroup": "car",
         "marker": {
          "color": "rgb(111, 201, 163)",
          "pattern": {
           "shape": ""
          }
         },
         "name": "car",
         "offsetgroup": "car",
         "orientation": "v",
         "showlegend": true,
         "type": "histogram",
         "x": [
          "car"
         ],
         "xaxis": "x",
         "y": [
          97
         ],
         "yaxis": "y"
        },
        {
         "alignmentgroup": "True",
         "bingroup": "x",
         "histfunc": "sum",
         "hovertemplate": "color=business<br>x=%{x}<br>sum of y=%{y}<extra></extra>",
         "legendgroup": "business",
         "marker": {
          "color": "rgb(86, 177, 163)",
          "pattern": {
           "shape": ""
          }
         },
         "name": "business",
         "offsetgroup": "business",
         "orientation": "v",
         "showlegend": true,
         "type": "histogram",
         "x": [
          "business"
         ],
         "xaxis": "x",
         "y": [
          59
         ],
         "yaxis": "y"
        },
        {
         "alignmentgroup": "True",
         "bingroup": "x",
         "histfunc": "sum",
         "hovertemplate": "color=domestic appliances<br>x=%{x}<br>sum of y=%{y}<extra></extra>",
         "legendgroup": "domestic appliances",
         "marker": {
          "color": "rgb(76, 153, 160)",
          "pattern": {
           "shape": ""
          }
         },
         "name": "domestic appliances",
         "offsetgroup": "domestic appliances",
         "orientation": "v",
         "showlegend": true,
         "type": "histogram",
         "x": [
          "domestic appliances"
         ],
         "xaxis": "x",
         "y": [
          22
         ],
         "yaxis": "y"
        },
        {
         "alignmentgroup": "True",
         "bingroup": "x",
         "histfunc": "sum",
         "hovertemplate": "color=repairs<br>x=%{x}<br>sum of y=%{y}<extra></extra>",
         "legendgroup": "repairs",
         "marker": {
          "color": "rgb(68, 130, 155)",
          "pattern": {
           "shape": ""
          }
         },
         "name": "repairs",
         "offsetgroup": "repairs",
         "orientation": "v",
         "showlegend": true,
         "type": "histogram",
         "x": [
          "repairs"
         ],
         "xaxis": "x",
         "y": [
          12
         ],
         "yaxis": "y"
        },
        {
         "alignmentgroup": "True",
         "bingroup": "x",
         "histfunc": "sum",
         "hovertemplate": "color=vacation/others<br>x=%{x}<br>sum of y=%{y}<extra></extra>",
         "legendgroup": "vacation/others",
         "marker": {
          "color": "rgb(62, 108, 150)",
          "pattern": {
           "shape": ""
          }
         },
         "name": "vacation/others",
         "offsetgroup": "vacation/others",
         "orientation": "v",
         "showlegend": true,
         "type": "histogram",
         "x": [
          "vacation/others"
         ],
         "xaxis": "x",
         "y": [
          12
         ],
         "yaxis": "y"
        }
       ],
       "layout": {
        "barmode": "relative",
        "legend": {
         "title": {
          "text": "color"
         },
         "tracegroupgap": 0
        },
        "margin": {
         "t": 60
        },
        "template": {
         "data": {
          "bar": [
           {
            "error_x": {
             "color": "#f2f5fa"
            },
            "error_y": {
             "color": "#f2f5fa"
            },
            "marker": {
             "line": {
              "color": "rgb(17,17,17)",
              "width": 0.5
             },
             "pattern": {
              "fillmode": "overlay",
              "size": 10,
              "solidity": 0.2
             }
            },
            "type": "bar"
           }
          ],
          "barpolar": [
           {
            "marker": {
             "line": {
              "color": "rgb(17,17,17)",
              "width": 0.5
             },
             "pattern": {
              "fillmode": "overlay",
              "size": 10,
              "solidity": 0.2
             }
            },
            "type": "barpolar"
           }
          ],
          "carpet": [
           {
            "aaxis": {
             "endlinecolor": "#A2B1C6",
             "gridcolor": "#506784",
             "linecolor": "#506784",
             "minorgridcolor": "#506784",
             "startlinecolor": "#A2B1C6"
            },
            "baxis": {
             "endlinecolor": "#A2B1C6",
             "gridcolor": "#506784",
             "linecolor": "#506784",
             "minorgridcolor": "#506784",
             "startlinecolor": "#A2B1C6"
            },
            "type": "carpet"
           }
          ],
          "choropleth": [
           {
            "colorbar": {
             "outlinewidth": 0,
             "ticks": ""
            },
            "type": "choropleth"
           }
          ],
          "contour": [
           {
            "colorbar": {
             "outlinewidth": 0,
             "ticks": ""
            },
            "colorscale": [
             [
              0,
              "#0d0887"
             ],
             [
              0.1111111111111111,
              "#46039f"
             ],
             [
              0.2222222222222222,
              "#7201a8"
             ],
             [
              0.3333333333333333,
              "#9c179e"
             ],
             [
              0.4444444444444444,
              "#bd3786"
             ],
             [
              0.5555555555555556,
              "#d8576b"
             ],
             [
              0.6666666666666666,
              "#ed7953"
             ],
             [
              0.7777777777777778,
              "#fb9f3a"
             ],
             [
              0.8888888888888888,
              "#fdca26"
             ],
             [
              1,
              "#f0f921"
             ]
            ],
            "type": "contour"
           }
          ],
          "contourcarpet": [
           {
            "colorbar": {
             "outlinewidth": 0,
             "ticks": ""
            },
            "type": "contourcarpet"
           }
          ],
          "heatmap": [
           {
            "colorbar": {
             "outlinewidth": 0,
             "ticks": ""
            },
            "colorscale": [
             [
              0,
              "#0d0887"
             ],
             [
              0.1111111111111111,
              "#46039f"
             ],
             [
              0.2222222222222222,
              "#7201a8"
             ],
             [
              0.3333333333333333,
              "#9c179e"
             ],
             [
              0.4444444444444444,
              "#bd3786"
             ],
             [
              0.5555555555555556,
              "#d8576b"
             ],
             [
              0.6666666666666666,
              "#ed7953"
             ],
             [
              0.7777777777777778,
              "#fb9f3a"
             ],
             [
              0.8888888888888888,
              "#fdca26"
             ],
             [
              1,
              "#f0f921"
             ]
            ],
            "type": "heatmap"
           }
          ],
          "heatmapgl": [
           {
            "colorbar": {
             "outlinewidth": 0,
             "ticks": ""
            },
            "colorscale": [
             [
              0,
              "#0d0887"
             ],
             [
              0.1111111111111111,
              "#46039f"
             ],
             [
              0.2222222222222222,
              "#7201a8"
             ],
             [
              0.3333333333333333,
              "#9c179e"
             ],
             [
              0.4444444444444444,
              "#bd3786"
             ],
             [
              0.5555555555555556,
              "#d8576b"
             ],
             [
              0.6666666666666666,
              "#ed7953"
             ],
             [
              0.7777777777777778,
              "#fb9f3a"
             ],
             [
              0.8888888888888888,
              "#fdca26"
             ],
             [
              1,
              "#f0f921"
             ]
            ],
            "type": "heatmapgl"
           }
          ],
          "histogram": [
           {
            "marker": {
             "pattern": {
              "fillmode": "overlay",
              "size": 10,
              "solidity": 0.2
             }
            },
            "type": "histogram"
           }
          ],
          "histogram2d": [
           {
            "colorbar": {
             "outlinewidth": 0,
             "ticks": ""
            },
            "colorscale": [
             [
              0,
              "#0d0887"
             ],
             [
              0.1111111111111111,
              "#46039f"
             ],
             [
              0.2222222222222222,
              "#7201a8"
             ],
             [
              0.3333333333333333,
              "#9c179e"
             ],
             [
              0.4444444444444444,
              "#bd3786"
             ],
             [
              0.5555555555555556,
              "#d8576b"
             ],
             [
              0.6666666666666666,
              "#ed7953"
             ],
             [
              0.7777777777777778,
              "#fb9f3a"
             ],
             [
              0.8888888888888888,
              "#fdca26"
             ],
             [
              1,
              "#f0f921"
             ]
            ],
            "type": "histogram2d"
           }
          ],
          "histogram2dcontour": [
           {
            "colorbar": {
             "outlinewidth": 0,
             "ticks": ""
            },
            "colorscale": [
             [
              0,
              "#0d0887"
             ],
             [
              0.1111111111111111,
              "#46039f"
             ],
             [
              0.2222222222222222,
              "#7201a8"
             ],
             [
              0.3333333333333333,
              "#9c179e"
             ],
             [
              0.4444444444444444,
              "#bd3786"
             ],
             [
              0.5555555555555556,
              "#d8576b"
             ],
             [
              0.6666666666666666,
              "#ed7953"
             ],
             [
              0.7777777777777778,
              "#fb9f3a"
             ],
             [
              0.8888888888888888,
              "#fdca26"
             ],
             [
              1,
              "#f0f921"
             ]
            ],
            "type": "histogram2dcontour"
           }
          ],
          "mesh3d": [
           {
            "colorbar": {
             "outlinewidth": 0,
             "ticks": ""
            },
            "type": "mesh3d"
           }
          ],
          "parcoords": [
           {
            "line": {
             "colorbar": {
              "outlinewidth": 0,
              "ticks": ""
             }
            },
            "type": "parcoords"
           }
          ],
          "pie": [
           {
            "automargin": true,
            "type": "pie"
           }
          ],
          "scatter": [
           {
            "marker": {
             "line": {
              "color": "#283442"
             }
            },
            "type": "scatter"
           }
          ],
          "scatter3d": [
           {
            "line": {
             "colorbar": {
              "outlinewidth": 0,
              "ticks": ""
             }
            },
            "marker": {
             "colorbar": {
              "outlinewidth": 0,
              "ticks": ""
             }
            },
            "type": "scatter3d"
           }
          ],
          "scattercarpet": [
           {
            "marker": {
             "colorbar": {
              "outlinewidth": 0,
              "ticks": ""
             }
            },
            "type": "scattercarpet"
           }
          ],
          "scattergeo": [
           {
            "marker": {
             "colorbar": {
              "outlinewidth": 0,
              "ticks": ""
             }
            },
            "type": "scattergeo"
           }
          ],
          "scattergl": [
           {
            "marker": {
             "line": {
              "color": "#283442"
             }
            },
            "type": "scattergl"
           }
          ],
          "scattermapbox": [
           {
            "marker": {
             "colorbar": {
              "outlinewidth": 0,
              "ticks": ""
             }
            },
            "type": "scattermapbox"
           }
          ],
          "scatterpolar": [
           {
            "marker": {
             "colorbar": {
              "outlinewidth": 0,
              "ticks": ""
             }
            },
            "type": "scatterpolar"
           }
          ],
          "scatterpolargl": [
           {
            "marker": {
             "colorbar": {
              "outlinewidth": 0,
              "ticks": ""
             }
            },
            "type": "scatterpolargl"
           }
          ],
          "scatterternary": [
           {
            "marker": {
             "colorbar": {
              "outlinewidth": 0,
              "ticks": ""
             }
            },
            "type": "scatterternary"
           }
          ],
          "surface": [
           {
            "colorbar": {
             "outlinewidth": 0,
             "ticks": ""
            },
            "colorscale": [
             [
              0,
              "#0d0887"
             ],
             [
              0.1111111111111111,
              "#46039f"
             ],
             [
              0.2222222222222222,
              "#7201a8"
             ],
             [
              0.3333333333333333,
              "#9c179e"
             ],
             [
              0.4444444444444444,
              "#bd3786"
             ],
             [
              0.5555555555555556,
              "#d8576b"
             ],
             [
              0.6666666666666666,
              "#ed7953"
             ],
             [
              0.7777777777777778,
              "#fb9f3a"
             ],
             [
              0.8888888888888888,
              "#fdca26"
             ],
             [
              1,
              "#f0f921"
             ]
            ],
            "type": "surface"
           }
          ],
          "table": [
           {
            "cells": {
             "fill": {
              "color": "#506784"
             },
             "line": {
              "color": "rgb(17,17,17)"
             }
            },
            "header": {
             "fill": {
              "color": "#2a3f5f"
             },
             "line": {
              "color": "rgb(17,17,17)"
             }
            },
            "type": "table"
           }
          ]
         },
         "layout": {
          "annotationdefaults": {
           "arrowcolor": "#f2f5fa",
           "arrowhead": 0,
           "arrowwidth": 1
          },
          "autotypenumbers": "strict",
          "coloraxis": {
           "colorbar": {
            "outlinewidth": 0,
            "ticks": ""
           }
          },
          "colorscale": {
           "diverging": [
            [
             0,
             "#8e0152"
            ],
            [
             0.1,
             "#c51b7d"
            ],
            [
             0.2,
             "#de77ae"
            ],
            [
             0.3,
             "#f1b6da"
            ],
            [
             0.4,
             "#fde0ef"
            ],
            [
             0.5,
             "#f7f7f7"
            ],
            [
             0.6,
             "#e6f5d0"
            ],
            [
             0.7,
             "#b8e186"
            ],
            [
             0.8,
             "#7fbc41"
            ],
            [
             0.9,
             "#4d9221"
            ],
            [
             1,
             "#276419"
            ]
           ],
           "sequential": [
            [
             0,
             "#0d0887"
            ],
            [
             0.1111111111111111,
             "#46039f"
            ],
            [
             0.2222222222222222,
             "#7201a8"
            ],
            [
             0.3333333333333333,
             "#9c179e"
            ],
            [
             0.4444444444444444,
             "#bd3786"
            ],
            [
             0.5555555555555556,
             "#d8576b"
            ],
            [
             0.6666666666666666,
             "#ed7953"
            ],
            [
             0.7777777777777778,
             "#fb9f3a"
            ],
            [
             0.8888888888888888,
             "#fdca26"
            ],
            [
             1,
             "#f0f921"
            ]
           ],
           "sequentialminus": [
            [
             0,
             "#0d0887"
            ],
            [
             0.1111111111111111,
             "#46039f"
            ],
            [
             0.2222222222222222,
             "#7201a8"
            ],
            [
             0.3333333333333333,
             "#9c179e"
            ],
            [
             0.4444444444444444,
             "#bd3786"
            ],
            [
             0.5555555555555556,
             "#d8576b"
            ],
            [
             0.6666666666666666,
             "#ed7953"
            ],
            [
             0.7777777777777778,
             "#fb9f3a"
            ],
            [
             0.8888888888888888,
             "#fdca26"
            ],
            [
             1,
             "#f0f921"
            ]
           ]
          },
          "colorway": [
           "#636efa",
           "#EF553B",
           "#00cc96",
           "#ab63fa",
           "#FFA15A",
           "#19d3f3",
           "#FF6692",
           "#B6E880",
           "#FF97FF",
           "#FECB52"
          ],
          "font": {
           "color": "#f2f5fa"
          },
          "geo": {
           "bgcolor": "rgb(17,17,17)",
           "lakecolor": "rgb(17,17,17)",
           "landcolor": "rgb(17,17,17)",
           "showlakes": true,
           "showland": true,
           "subunitcolor": "#506784"
          },
          "hoverlabel": {
           "align": "left"
          },
          "hovermode": "closest",
          "mapbox": {
           "style": "dark"
          },
          "paper_bgcolor": "rgb(17,17,17)",
          "plot_bgcolor": "rgb(17,17,17)",
          "polar": {
           "angularaxis": {
            "gridcolor": "#506784",
            "linecolor": "#506784",
            "ticks": ""
           },
           "bgcolor": "rgb(17,17,17)",
           "radialaxis": {
            "gridcolor": "#506784",
            "linecolor": "#506784",
            "ticks": ""
           }
          },
          "scene": {
           "xaxis": {
            "backgroundcolor": "rgb(17,17,17)",
            "gridcolor": "#506784",
            "gridwidth": 2,
            "linecolor": "#506784",
            "showbackground": true,
            "ticks": "",
            "zerolinecolor": "#C8D4E3"
           },
           "yaxis": {
            "backgroundcolor": "rgb(17,17,17)",
            "gridcolor": "#506784",
            "gridwidth": 2,
            "linecolor": "#506784",
            "showbackground": true,
            "ticks": "",
            "zerolinecolor": "#C8D4E3"
           },
           "zaxis": {
            "backgroundcolor": "rgb(17,17,17)",
            "gridcolor": "#506784",
            "gridwidth": 2,
            "linecolor": "#506784",
            "showbackground": true,
            "ticks": "",
            "zerolinecolor": "#C8D4E3"
           }
          },
          "shapedefaults": {
           "line": {
            "color": "#f2f5fa"
           }
          },
          "sliderdefaults": {
           "bgcolor": "#C8D4E3",
           "bordercolor": "rgb(17,17,17)",
           "borderwidth": 1,
           "tickwidth": 0
          },
          "ternary": {
           "aaxis": {
            "gridcolor": "#506784",
            "linecolor": "#506784",
            "ticks": ""
           },
           "baxis": {
            "gridcolor": "#506784",
            "linecolor": "#506784",
            "ticks": ""
           },
           "bgcolor": "rgb(17,17,17)",
           "caxis": {
            "gridcolor": "#506784",
            "linecolor": "#506784",
            "ticks": ""
           }
          },
          "title": {
           "x": 0.05
          },
          "updatemenudefaults": {
           "bgcolor": "#506784",
           "borderwidth": 0
          },
          "xaxis": {
           "automargin": true,
           "gridcolor": "#283442",
           "linecolor": "#506784",
           "ticks": "",
           "title": {
            "standoff": 15
           },
           "zerolinecolor": "#283442",
           "zerolinewidth": 2
          },
          "yaxis": {
           "automargin": true,
           "gridcolor": "#283442",
           "linecolor": "#506784",
           "ticks": "",
           "title": {
            "standoff": 15
           },
           "zerolinecolor": "#283442",
           "zerolinewidth": 2
          }
         }
        },
        "title": {
         "text": "Total Counts of Each Credit Withdrawl Type",
         "x": 0.5,
         "yanchor": "top"
        },
        "xaxis": {
         "anchor": "y",
         "domain": [
          0,
          1
         ],
         "title": {
          "text": ""
         }
        },
        "yaxis": {
         "anchor": "x",
         "domain": [
          0,
          1
         ],
         "title": {
          "text": "Total Count"
         }
        }
       }
      }
     },
     "metadata": {},
     "output_type": "display_data"
    }
   ],
   "source": [
    "#Create counts of each dithdrwal type\n",
    "\n",
    "fig = px.histogram(df,\n",
    "    x = df['Purpose'].unique(),\n",
    "    y = df['Purpose'].value_counts(),\n",
    "    color_discrete_sequence = px.colors.sequential.deep,\n",
    "    color = df['Purpose'].unique(),\n",
    "    template = 'plotly_dark')\n",
    "\n",
    "fig.update_layout(\n",
    "    title = {\n",
    "        'text': 'Total Counts of Each Credit Withdrawl Type',\n",
    "        'x' : 0.5,\n",
    "        'yanchor':'top'\n",
    "    },\n",
    "    xaxis_title = '',\n",
    "    yaxis_title = 'Total Count'\n",
    ")"
   ]
  },
  {
   "cell_type": "code",
   "execution_count": 10,
   "metadata": {},
   "outputs": [
    {
     "data": {
      "text/plain": [
       "Text(0.5, 1.0, 'Distribution of Age for Males and Females')"
      ]
     },
     "execution_count": 10,
     "metadata": {},
     "output_type": "execute_result"
    },
    {
     "data": {
      "image/png": "[encoded data removed]",
      "text/plain": [
       "<Figure size 1510.5x360 with 1 Axes>"
      ]
     },
     "metadata": {},
     "output_type": "display_data"
    }
   ],
   "source": [
    "# Age distribution sex-wise\n",
    "plt.style.use('dark_background')\n",
    "\n",
    "sns.displot(data = df,\n",
    "    x = 'Age',\n",
    "    hue = 'Sex',\n",
    "    kde = True,\n",
    "    palette = 'Paired',\n",
    "    aspect = 4)\n",
    "\n",
    "plt.title('Distribution of Age for Males and Females',\n",
    "    fontdict = {'fontsize': 25})\n"
   ]
  },
  {
   "cell_type": "code",
   "execution_count": 31,
   "metadata": {},
   "outputs": [
    {
     "data": {
      "application/vnd.plotly.v1+json": {
       "config": {
        "plotlyServerURL": "https://plot.ly"
       },
       "data": [
        {
         "alignmentgroup": "True",
         "bingroup": "x",
         "histfunc": "sum",
         "hovertemplate": "Sex=%{x}<br>sum of Credit amount=%{y}<extra></extra>",
         "legendgroup": "",
         "marker": {
          "color": "rgb(253, 253, 204)",
          "pattern": {
           "shape": ""
          }
         },
         "name": "",
         "offsetgroup": "",
         "orientation": "v",
         "showlegend": false,
         "type": "histogram",
         "x": [
          "male",
          "female",
          "male",
          "male",
          "male",
          "male",
          "male",
          "male",
          "male",
          "male",
          "female",
          "female",
          "female",
          "male",
          "female",
          "female",
          "male",
          "male",
          "female",
          "male",
          "male",
          "male",
          "male",
          "male",
          "male",
          "male",
          "male",
          "female",
          "male",
          "male",
          "male",
          "male",
          "male",
          "male",
          "female",
          "male",
          "male",
          "male",
          "male",
          "male",
          "male",
          "male",
          "male",
          "male",
          "female",
          "female",
          "male",
          "female",
          "male",
          "female",
          "male",
          "male",
          "male",
          "male",
          "male",
          "male",
          "male",
          "female",
          "female",
          "female",
          "male",
          "male",
          "male",
          "male",
          "female",
          "male",
          "female",
          "male",
          "male",
          "female",
          "female",
          "male",
          "male",
          "female",
          "male",
          "male",
          "male",
          "male",
          "male",
          "male",
          "female",
          "male",
          "female",
          "female",
          "male",
          "female",
          "female",
          "male",
          "male",
          "male",
          "male",
          "male",
          "female",
          "male",
          "male",
          "male",
          "female",
          "male",
          "male",
          "male",
          "male",
          "male",
          "female",
          "male",
          "male",
          "male",
          "male",
          "male",
          "female",
          "male",
          "male",
          "female",
          "male",
          "female",
          "male",
          "male",
          "female",
          "female",
          "female",
          "male",
          "female",
          "female",
          "male",
          "male",
          "female",
          "male",
          "male",
          "male",
          "male",
          "female",
          "female",
          "male",
          "male",
          "male",
          "female",
          "female",
          "male",
          "male",
          "male",
          "female",
          "male",
          "female",
          "male",
          "male",
          "female",
          "male",
          "female",
          "female",
          "male",
          "male",
          "male",
          "male",
          "male",
          "female",
          "male",
          "female",
          "male",
          "male",
          "male",
          "male",
          "male",
          "female",
          "male",
          "male",
          "male",
          "male",
          "female",
          "female",
          "female",
          "male",
          "male",
          "female",
          "female",
          "male",
          "male",
          "female",
          "male",
          "male",
          "male",
          "male",
          "male",
          "male",
          "male",
          "male",
          "male",
          "male",
          "female",
          "male",
          "male",
          "female",
          "male",
          "male",
          "male",
          "male",
          "male",
          "female",
          "female",
          "female",
          "male",
          "male",
          "male",
          "male",
          "male",
          "male",
          "male",
          "male",
          "male",
          "male",
          "male",
          "male",
          "male",
          "female",
          "male",
          "male",
          "male",
          "female",
          "male",
          "male",
          "male",
          "female",
          "male",
          "female",
          "male",
          "male",
          "male",
          "male",
          "male",
          "male",
          "male",
          "male",
          "male",
          "male",
          "male",
          "male",
          "male",
          "male",
          "male",
          "male",
          "female",
          "male",
          "female",
          "male",
          "male",
          "female",
          "female",
          "male",
          "male",
          "male",
          "male",
          "female",
          "female",
          "female",
          "female",
          "male",
          "male",
          "male",
          "male",
          "male",
          "female",
          "female",
          "male",
          "female",
          "male",
          "female",
          "male",
          "male",
          "male",
          "female",
          "male",
          "male",
          "male",
          "female",
          "male",
          "male",
          "male",
          "male",
          "female",
          "male",
          "female",
          "male",
          "male",
          "male",
          "male",
          "male",
          "male",
          "female",
          "male",
          "male",
          "female",
          "male",
          "male",
          "male",
          "female",
          "male",
          "male",
          "female",
          "female",
          "male",
          "male",
          "male",
          "female",
          "female",
          "male",
          "male",
          "male",
          "male",
          "female",
          "male",
          "female",
          "male",
          "male",
          "male",
          "female",
          "male",
          "male",
          "male",
          "male",
          "female",
          "male",
          "female",
          "male",
          "male",
          "male",
          "male",
          "female",
          "male",
          "male",
          "female",
          "male",
          "male",
          "male",
          "female",
          "female",
          "female",
          "male",
          "male",
          "female",
          "female",
          "male",
          "male",
          "female",
          "female",
          "male",
          "male",
          "male",
          "female",
          "male",
          "female",
          "male",
          "male",
          "female",
          "female",
          "male",
          "male",
          "male",
          "male",
          "male",
          "male",
          "male",
          "female",
          "male",
          "male",
          "female",
          "male",
          "male",
          "male",
          "male",
          "female",
          "male",
          "female",
          "male",
          "male",
          "female",
          "male",
          "female",
          "female",
          "male",
          "male",
          "male",
          "female",
          "male",
          "female",
          "female",
          "male",
          "male",
          "female",
          "female",
          "male",
          "male",
          "female",
          "male",
          "female",
          "male",
          "female",
          "male",
          "male",
          "female",
          "male",
          "male",
          "female",
          "male",
          "male",
          "male",
          "male",
          "male",
          "male",
          "male",
          "male",
          "male",
          "male",
          "female",
          "male",
          "male",
          "male",
          "female",
          "male",
          "male",
          "female",
          "female",
          "female",
          "female",
          "male",
          "male",
          "male",
          "female",
          "male",
          "male",
          "male",
          "male",
          "female",
          "male",
          "male",
          "male",
          "male",
          "male",
          "male",
          "male",
          "female",
          "male",
          "female",
          "male",
          "female",
          "male",
          "male",
          "female",
          "female",
          "female",
          "male",
          "female",
          "male",
          "male",
          "female",
          "male",
          "male",
          "male",
          "female",
          "male",
          "male",
          "female",
          "male",
          "male",
          "male",
          "female",
          "male",
          "male",
          "male",
          "female",
          "male",
          "female",
          "male",
          "male",
          "female",
          "male",
          "male",
          "male",
          "female",
          "male",
          "male",
          "male",
          "male",
          "female",
          "male",
          "female",
          "female",
          "male",
          "male",
          "male",
          "female",
          "male",
          "male",
          "male",
          "female",
          "female",
          "male",
          "male",
          "male",
          "male",
          "male",
          "male",
          "male",
          "female",
          "male",
          "male",
          "male",
          "female",
          "male",
          "male",
          "male",
          "male",
          "male",
          "male",
          "male",
          "male",
          "male",
          "male",
          "female",
          "male",
          "female",
          "male",
          "male",
          "male",
          "female",
          "male",
          "female",
          "female",
          "male",
          "female",
          "male",
          "male",
          "male",
          "male",
          "female",
          "male",
          "male",
          "male",
          "male",
          "female",
          "female",
          "male",
          "female",
          "male",
          "male",
          "male",
          "male",
          "male",
          "male",
          "female",
          "male",
          "female",
          "male",
          "female",
          "male",
          "male",
          "male",
          "female",
          "male",
          "female",
          "female",
          "male",
          "male",
          "male",
          "male",
          "female",
          "male",
          "male",
          "female",
          "male",
          "male",
          "male",
          "female",
          "female",
          "male",
          "female",
          "female",
          "male",
          "female",
          "female",
          "female",
          "male",
          "male",
          "male",
          "male",
          "female",
          "male",
          "female",
          "female",
          "male",
          "male",
          "male",
          "male",
          "female",
          "female",
          "female",
          "female",
          "male",
          "female",
          "female",
          "male",
          "male",
          "male",
          "female",
          "female",
          "female",
          "female",
          "female",
          "male",
          "male",
          "female",
          "male",
          "male",
          "female",
          "female",
          "female",
          "female",
          "female",
          "male",
          "male",
          "male",
          "female",
          "male",
          "male",
          "male",
          "male",
          "female",
          "male",
          "male",
          "male",
          "male",
          "male",
          "male",
          "female",
          "male",
          "male",
          "female",
          "female",
          "male",
          "female",
          "male",
          "female",
          "male",
          "female",
          "male",
          "male",
          "male",
          "male",
          "male",
          "male",
          "female",
          "male",
          "male",
          "male",
          "male",
          "male",
          "male",
          "male",
          "male",
          "male",
          "male",
          "female",
          "male",
          "male",
          "male",
          "male",
          "male",
          "female",
          "male",
          "male",
          "female",
          "male",
          "male",
          "male",
          "male",
          "male",
          "male",
          "male",
          "female",
          "male",
          "male",
          "male",
          "female",
          "female",
          "male",
          "male",
          "male",
          "male",
          "male",
          "male",
          "male",
          "male",
          "male",
          "male",
          "female",
          "male",
          "male",
          "male",
          "male",
          "male",
          "female",
          "male",
          "male",
          "female",
          "male",
          "female",
          "male",
          "female",
          "female",
          "male",
          "female",
          "female",
          "male",
          "male",
          "female",
          "male",
          "male",
          "male",
          "male",
          "male",
          "male",
          "male",
          "male",
          "male",
          "female",
          "female",
          "female",
          "female",
          "female",
          "male",
          "female",
          "female",
          "male",
          "male",
          "male",
          "female",
          "female",
          "female",
          "female",
          "female",
          "male",
          "male",
          "female",
          "male",
          "male",
          "male",
          "male",
          "male",
          "male",
          "female",
          "female",
          "male",
          "male",
          "female",
          "female",
          "female",
          "female",
          "male",
          "female",
          "male",
          "male",
          "male",
          "male",
          "female",
          "female",
          "male",
          "male",
          "male",
          "male",
          "male",
          "female",
          "male",
          "male",
          "female",
          "female",
          "male",
          "male",
          "male",
          "female",
          "male",
          "female",
          "male",
          "female",
          "male",
          "male",
          "male",
          "female",
          "male",
          "male",
          "male",
          "male",
          "male",
          "male",
          "female",
          "male",
          "male",
          "male",
          "male",
          "female",
          "male",
          "female",
          "male",
          "male",
          "male",
          "female",
          "female",
          "male",
          "female",
          "male",
          "male",
          "male",
          "male",
          "female",
          "male",
          "male",
          "male",
          "male",
          "male",
          "female",
          "male",
          "female",
          "male",
          "male",
          "male",
          "male",
          "male",
          "male",
          "male",
          "male",
          "female",
          "male",
          "male",
          "male",
          "male",
          "female",
          "male",
          "female",
          "female",
          "male",
          "female",
          "female",
          "male",
          "male",
          "male",
          "male",
          "female",
          "male",
          "male",
          "male",
          "male",
          "male",
          "male",
          "male",
          "male",
          "male",
          "male",
          "male",
          "male",
          "male",
          "female",
          "male",
          "female",
          "male",
          "male",
          "male",
          "female",
          "male",
          "male",
          "female",
          "female",
          "male",
          "male",
          "female",
          "female",
          "male",
          "male",
          "female",
          "male",
          "female",
          "male",
          "male",
          "male",
          "male",
          "male",
          "male",
          "male",
          "female",
          "male",
          "female",
          "male",
          "male",
          "male",
          "male",
          "male",
          "male",
          "male",
          "male",
          "male",
          "male",
          "female",
          "female",
          "female",
          "male",
          "male",
          "male",
          "male",
          "male",
          "male",
          "male",
          "male",
          "male",
          "female",
          "female",
          "female",
          "female",
          "female",
          "male",
          "male",
          "female",
          "male",
          "male",
          "male",
          "male",
          "female",
          "male",
          "female",
          "male",
          "male",
          "male",
          "female",
          "male",
          "male",
          "male",
          "male",
          "female",
          "male",
          "male",
          "female",
          "male",
          "female",
          "male",
          "male",
          "male",
          "male",
          "male",
          "male",
          "male",
          "female",
          "female",
          "male",
          "male",
          "male",
          "male",
          "male",
          "male",
          "female",
          "female",
          "female",
          "female",
          "male",
          "male",
          "male",
          "male",
          "male",
          "male",
          "male",
          "male",
          "male",
          "female",
          "male",
          "female",
          "male",
          "male",
          "male",
          "male",
          "female",
          "male",
          "female",
          "female",
          "female",
          "male",
          "male",
          "male",
          "male",
          "male",
          "female",
          "male",
          "male",
          "female",
          "male",
          "female",
          "male",
          "male",
          "male",
          "male",
          "male",
          "male",
          "male",
          "female",
          "male",
          "male",
          "male",
          "male"
         ],
         "xaxis": "x",
         "y": [
          1169,
          5951,
          2096,
          7882,
          4870,
          9055,
          2835,
          6948,
          3059,
          5234,
          1295,
          4308,
          1567,
          1199,
          1403,
          1282,
          2424,
          8072,
          12579,
          3430,
          2134,
          2647,
          2241,
          1804,
          2069,
          1374,
          426,
          409,
          2415,
          6836,
          1913,
          4020,
          5866,
          1264,
          1474,
          4746,
          6110,
          2100,
          1225,
          458,
          2333,
          1158,
          6204,
          6187,
          6143,
          1393,
          2299,
          1352,
          7228,
          2073,
          2333,
          5965,
          1262,
          3378,
          2225,
          783,
          6468,
          9566,
          1961,
          6229,
          1391,
          1537,
          1953,
          14421,
          3181,
          5190,
          2171,
          1007,
          1819,
          2394,
          8133,
          730,
          1164,
          5954,
          1977,
          1526,
          3965,
          4771,
          9436,
          3832,
          5943,
          1213,
          1568,
          1755,
          2315,
          1412,
          1295,
          12612,
          2249,
          1108,
          618,
          1409,
          797,
          3617,
          1318,
          15945,
          2012,
          2622,
          2337,
          7057,
          1469,
          2323,
          932,
          1919,
          2445,
          11938,
          6458,
          6078,
          7721,
          1410,
          1449,
          392,
          6260,
          7855,
          1680,
          3578,
          7174,
          2132,
          4281,
          2366,
          1835,
          3868,
          1768,
          781,
          1924,
          2121,
          701,
          639,
          1860,
          3499,
          8487,
          6887,
          2708,
          1984,
          10144,
          1240,
          8613,
          766,
          2728,
          1881,
          709,
          4795,
          3416,
          2462,
          2288,
          3566,
          860,
          682,
          5371,
          1582,
          1346,
          1924,
          5848,
          7758,
          6967,
          1282,
          1288,
          339,
          3512,
          1898,
          2872,
          1055,
          1262,
          7308,
          909,
          2978,
          1131,
          1577,
          3972,
          1935,
          950,
          763,
          2064,
          1414,
          3414,
          7485,
          2577,
          338,
          1963,
          571,
          9572,
          4455,
          1647,
          3777,
          884,
          1360,
          5129,
          1175,
          674,
          3244,
          4591,
          3844,
          3915,
          2108,
          3031,
          1501,
          1382,
          951,
          2760,
          4297,
          936,
          1168,
          5117,
          902,
          1495,
          10623,
          1935,
          1424,
          6568,
          1413,
          3074,
          3835,
          5293,
          1908,
          3342,
          932,
          3104,
          3913,
          3021,
          1364,
          625,
          1200,
          707,
          2978,
          4657,
          2613,
          10961,
          7865,
          1478,
          3149,
          4210,
          2507,
          2141,
          866,
          1544,
          1823,
          14555,
          2767,
          1291,
          2522,
          915,
          1595,
          4605,
          1185,
          3447,
          1258,
          717,
          1204,
          1925,
          433,
          666,
          2251,
          2150,
          4151,
          2030,
          7418,
          2684,
          2149,
          3812,
          1154,
          1657,
          1603,
          5302,
          2748,
          1231,
          802,
          6304,
          1533,
          8978,
          999,
          2662,
          1402,
          12169,
          3060,
          11998,
          2697,
          2404,
          1262,
          4611,
          1901,
          3368,
          1574,
          1445,
          1520,
          3878,
          10722,
          4788,
          7582,
          1092,
          1024,
          1076,
          9398,
          6419,
          4796,
          7629,
          9960,
          4675,
          1287,
          2515,
          2745,
          672,
          3804,
          1344,
          1038,
          10127,
          1543,
          4811,
          727,
          1237,
          276,
          5381,
          5511,
          3749,
          685,
          1494,
          2746,
          708,
          4351,
          701,
          3643,
          4249,
          1938,
          2910,
          2659,
          1028,
          3398,
          5801,
          1525,
          4473,
          1068,
          6615,
          1864,
          7408,
          11590,
          4110,
          3384,
          2101,
          1275,
          4169,
          1521,
          5743,
          3599,
          3213,
          4439,
          3949,
          1459,
          882,
          3758,
          1743,
          1136,
          1236,
          959,
          3229,
          6199,
          727,
          1246,
          2331,
          4463,
          776,
          2406,
          1239,
          3399,
          2247,
          1766,
          2473,
          1542,
          3850,
          3650,
          3446,
          3001,
          3079,
          6070,
          2146,
          13756,
          14782,
          7685,
          2320,
          846,
          14318,
          362,
          2212,
          12976,
          1283,
          1330,
          4272,
          2238,
          1126,
          7374,
          2326,
          1449,
          1820,
          983,
          3249,
          1957,
          2406,
          11760,
          2578,
          2348,
          1223,
          1516,
          1473,
          1887,
          8648,
          802,
          2899,
          2039,
          2197,
          1053,
          3235,
          939,
          1967,
          7253,
          2292,
          1597,
          1381,
          5842,
          2579,
          8471,
          2782,
          1042,
          3186,
          2028,
          958,
          1591,
          2762,
          2779,
          2743,
          1149,
          1313,
          1190,
          3448,
          11328,
          1872,
          2058,
          2136,
          1484,
          660,
          1287,
          3394,
          609,
          1884,
          1620,
          2629,
          719,
          5096,
          1244,
          1842,
          2576,
          1424,
          1512,
          11054,
          518,
          2759,
          2670,
          4817,
          2679,
          3905,
          3386,
          343,
          4594,
          3620,
          1721,
          3017,
          754,
          1950,
          2924,
          1659,
          7238,
          2764,
          4679,
          3092,
          448,
          654,
          1238,
          1245,
          3114,
          2569,
          5152,
          1037,
          1478,
          3573,
          1201,
          3622,
          960,
          1163,
          1209,
          3077,
          3757,
          1418,
          3518,
          1934,
          8318,
          1237,
          368,
          2122,
          2996,
          9034,
          1585,
          1301,
          1323,
          3123,
          5493,
          1126,
          1216,
          1207,
          1309,
          2360,
          6850,
          1413,
          8588,
          759,
          4686,
          2687,
          585,
          2255,
          609,
          1361,
          7127,
          1203,
          700,
          5507,
          3190,
          7119,
          3488,
          1113,
          7966,
          1532,
          1503,
          2302,
          662,
          2273,
          2631,
          1503,
          1311,
          3105,
          2319,
          1374,
          3612,
          7763,
          3049,
          1534,
          2032,
          6350,
          2864,
          1255,
          1333,
          2022,
          1552,
          626,
          8858,
          996,
          1750,
          6999,
          1995,
          1199,
          1331,
          2278,
          5003,
          3552,
          1928,
          2964,
          1546,
          683,
          12389,
          4712,
          1553,
          1372,
          2578,
          3979,
          6758,
          3234,
          5954,
          5433,
          806,
          1082,
          2788,
          2930,
          1927,
          2820,
          937,
          1056,
          3124,
          1388,
          2384,
          2133,
          2039,
          2799,
          1289,
          1217,
          2246,
          385,
          1965,
          1572,
          2718,
          1358,
          931,
          1442,
          4241,
          2775,
          3863,
          2329,
          918,
          1837,
          3349,
          1275,
          2828,
          4526,
          2671,
          2051,
          1300,
          741,
          1240,
          3357,
          3632,
          1808,
          12204,
          9157,
          3676,
          3441,
          640,
          3652,
          1530,
          3914,
          1858,
          2600,
          1979,
          2116,
          1437,
          4042,
          3832,
          3660,
          1553,
          1444,
          1980,
          1355,
          1393,
          1376,
          15653,
          1493,
          4370,
          750,
          1308,
          4623,
          1851,
          1880,
          7980,
          4583,
          1386,
          947,
          684,
          7476,
          1922,
          2303,
          8086,
          2346,
          3973,
          888,
          10222,
          4221,
          6361,
          1297,
          900,
          2241,
          1050,
          1047,
          6314,
          3496,
          3609,
          4843,
          3017,
          4139,
          5742,
          10366,
          2080,
          2580,
          4530,
          5150,
          5595,
          2384,
          1453,
          1538,
          2279,
          1478,
          5103,
          9857,
          6527,
          1347,
          2862,
          2753,
          3651,
          975,
          2631,
          2896,
          4716,
          2284,
          1236,
          1103,
          926,
          1800,
          1905,
          1123,
          6331,
          1377,
          2503,
          2528,
          5324,
          6560,
          2969,
          1206,
          2118,
          629,
          1198,
          2476,
          1138,
          14027,
          7596,
          3077,
          1505,
          3148,
          6148,
          1337,
          433,
          1228,
          790,
          2570,
          250,
          1316,
          1882,
          6416,
          1275,
          6403,
          1987,
          760,
          2603,
          3380,
          3990,
          11560,
          4380,
          6761,
          4280,
          2325,
          1048,
          3160,
          2483,
          14179,
          1797,
          2511,
          1274,
          5248,
          3029,
          428,
          976,
          841,
          5771,
          1555,
          1285,
          1299,
          1271,
          1393,
          691,
          5045,
          2124,
          2214,
          12680,
          2463,
          1155,
          3108,
          2901,
          3617,
          1655,
          2812,
          8065,
          3275,
          2223,
          1480,
          1371,
          3535,
          3509,
          5711,
          3872,
          4933,
          1940,
          1410,
          836,
          6468,
          1941,
          2675,
          2751,
          6224,
          5998,
          1188,
          6313,
          1221,
          2892,
          3062,
          2301,
          7511,
          1258,
          717,
          1549,
          1597,
          1795,
          4272,
          976,
          7472,
          9271,
          590,
          930,
          9283,
          1778,
          907,
          484,
          9629,
          3051,
          3931,
          7432,
          1338,
          1554,
          15857,
          1345,
          1101,
          3016,
          2712,
          731,
          3780,
          1602,
          3966,
          4165,
          8335,
          6681,
          2375,
          1216,
          11816,
          5084,
          2327,
          1082,
          886,
          601,
          2957,
          2611,
          5179,
          2993,
          1943,
          1559,
          3422,
          3976,
          6761,
          1249,
          1364,
          709,
          2235,
          4042,
          1471,
          1442,
          10875,
          1474,
          894,
          3343,
          3959,
          3577,
          5804,
          2169,
          2439,
          4526,
          2210,
          2221,
          2389,
          3331,
          7409,
          652,
          7678,
          1343,
          1382,
          874,
          3590,
          1322,
          1940,
          3595,
          1422,
          6742,
          7814,
          9277,
          2181,
          1098,
          4057,
          795,
          2825,
          15672,
          6614,
          7824,
          2442,
          1829,
          2171,
          5800,
          1169,
          8947,
          2606,
          1592,
          2186,
          4153,
          2625,
          3485,
          10477,
          1386,
          1278,
          1107,
          3763,
          3711,
          3594,
          3195,
          4454,
          4736,
          2991,
          2142,
          3161,
          18424,
          2848,
          14896,
          2359,
          3345,
          1817,
          12749,
          1366,
          2002,
          6872,
          697,
          1049,
          10297,
          1867,
          1344,
          1747,
          1670,
          1224,
          522,
          1498,
          1919,
          745,
          2063,
          6288,
          6842,
          3527,
          1546,
          929,
          1455,
          1845,
          8358,
          3349,
          2859,
          1533,
          3621,
          3590,
          2145,
          4113,
          10974,
          1893,
          1231,
          3656,
          1154,
          4006,
          3069,
          1740,
          2353,
          3556,
          2397,
          454,
          1715,
          2520,
          3568,
          7166,
          3939,
          1514,
          7393,
          1193,
          7297,
          2831,
          1258,
          753,
          2427,
          2538,
          1264,
          8386,
          4844,
          2923,
          8229,
          2028,
          1433,
          6289,
          1409,
          6579,
          1743,
          3565,
          1569,
          1936,
          3959,
          2390,
          1736,
          3857,
          804,
          1845,
          4576
         ],
         "yaxis": "y"
        }
       ],
       "layout": {
        "barmode": "relative",
        "legend": {
         "tracegroupgap": 0
        },
        "margin": {
         "t": 60
        },
        "template": {
         "data": {
          "bar": [
           {
            "error_x": {
             "color": "#f2f5fa"
            },
            "error_y": {
             "color": "#f2f5fa"
            },
            "marker": {
             "line": {
              "color": "rgb(17,17,17)",
              "width": 0.5
             },
             "pattern": {
              "fillmode": "overlay",
              "size": 10,
              "solidity": 0.2
             }
            },
            "type": "bar"
           }
          ],
          "barpolar": [
           {
            "marker": {
             "line": {
              "color": "rgb(17,17,17)",
              "width": 0.5
             },
             "pattern": {
              "fillmode": "overlay",
              "size": 10,
              "solidity": 0.2
             }
            },
            "type": "barpolar"
           }
          ],
          "carpet": [
           {
            "aaxis": {
             "endlinecolor": "#A2B1C6",
             "gridcolor": "#506784",
             "linecolor": "#506784",
             "minorgridcolor": "#506784",
             "startlinecolor": "#A2B1C6"
            },
            "baxis": {
             "endlinecolor": "#A2B1C6",
             "gridcolor": "#506784",
             "linecolor": "#506784",
             "minorgridcolor": "#506784",
             "startlinecolor": "#A2B1C6"
            },
            "type": "carpet"
           }
          ],
          "choropleth": [
           {
            "colorbar": {
             "outlinewidth": 0,
             "ticks": ""
            },
            "type": "choropleth"
           }
          ],
          "contour": [
           {
            "colorbar": {
             "outlinewidth": 0,
             "ticks": ""
            },
            "colorscale": [
             [
              0,
              "#0d0887"
             ],
             [
              0.1111111111111111,
              "#46039f"
             ],
             [
              0.2222222222222222,
              "#7201a8"
             ],
             [
              0.3333333333333333,
              "#9c179e"
             ],
             [
              0.4444444444444444,
              "#bd3786"
             ],
             [
              0.5555555555555556,
              "#d8576b"
             ],
             [
              0.6666666666666666,
              "#ed7953"
             ],
             [
              0.7777777777777778,
              "#fb9f3a"
             ],
             [
              0.8888888888888888,
              "#fdca26"
             ],
             [
              1,
              "#f0f921"
             ]
            ],
            "type": "contour"
           }
          ],
          "contourcarpet": [
           {
            "colorbar": {
             "outlinewidth": 0,
             "ticks": ""
            },
            "type": "contourcarpet"
           }
          ],
          "heatmap": [
           {
            "colorbar": {
             "outlinewidth": 0,
             "ticks": ""
            },
            "colorscale": [
             [
              0,
              "#0d0887"
             ],
             [
              0.1111111111111111,
              "#46039f"
             ],
             [
              0.2222222222222222,
              "#7201a8"
             ],
             [
              0.3333333333333333,
              "#9c179e"
             ],
             [
              0.4444444444444444,
              "#bd3786"
             ],
             [
              0.5555555555555556,
              "#d8576b"
             ],
             [
              0.6666666666666666,
              "#ed7953"
             ],
             [
              0.7777777777777778,
              "#fb9f3a"
             ],
             [
              0.8888888888888888,
              "#fdca26"
             ],
             [
              1,
              "#f0f921"
             ]
            ],
            "type": "heatmap"
           }
          ],
          "heatmapgl": [
           {
            "colorbar": {
             "outlinewidth": 0,
             "ticks": ""
            },
            "colorscale": [
             [
              0,
              "#0d0887"
             ],
             [
              0.1111111111111111,
              "#46039f"
             ],
             [
              0.2222222222222222,
              "#7201a8"
             ],
             [
              0.3333333333333333,
              "#9c179e"
             ],
             [
              0.4444444444444444,
              "#bd3786"
             ],
             [
              0.5555555555555556,
              "#d8576b"
             ],
             [
              0.6666666666666666,
              "#ed7953"
             ],
             [
              0.7777777777777778,
              "#fb9f3a"
             ],
             [
              0.8888888888888888,
              "#fdca26"
             ],
             [
              1,
              "#f0f921"
             ]
            ],
            "type": "heatmapgl"
           }
          ],
          "histogram": [
           {
            "marker": {
             "pattern": {
              "fillmode": "overlay",
              "size": 10,
              "solidity": 0.2
             }
            },
            "type": "histogram"
           }
          ],
          "histogram2d": [
           {
            "colorbar": {
             "outlinewidth": 0,
             "ticks": ""
            },
            "colorscale": [
             [
              0,
              "#0d0887"
             ],
             [
              0.1111111111111111,
              "#46039f"
             ],
             [
              0.2222222222222222,
              "#7201a8"
             ],
             [
              0.3333333333333333,
              "#9c179e"
             ],
             [
              0.4444444444444444,
              "#bd3786"
             ],
             [
              0.5555555555555556,
              "#d8576b"
             ],
             [
              0.6666666666666666,
              "#ed7953"
             ],
             [
              0.7777777777777778,
              "#fb9f3a"
             ],
             [
              0.8888888888888888,
              "#fdca26"
             ],
             [
              1,
              "#f0f921"
             ]
            ],
            "type": "histogram2d"
           }
          ],
          "histogram2dcontour": [
           {
            "colorbar": {
             "outlinewidth": 0,
             "ticks": ""
            },
            "colorscale": [
             [
              0,
              "#0d0887"
             ],
             [
              0.1111111111111111,
              "#46039f"
             ],
             [
              0.2222222222222222,
              "#7201a8"
             ],
             [
              0.3333333333333333,
              "#9c179e"
             ],
             [
              0.4444444444444444,
              "#bd3786"
             ],
             [
              0.5555555555555556,
              "#d8576b"
             ],
             [
              0.6666666666666666,
              "#ed7953"
             ],
             [
              0.7777777777777778,
              "#fb9f3a"
             ],
             [
              0.8888888888888888,
              "#fdca26"
             ],
             [
              1,
              "#f0f921"
             ]
            ],
            "type": "histogram2dcontour"
           }
          ],
          "mesh3d": [
           {
            "colorbar": {
             "outlinewidth": 0,
             "ticks": ""
            },
            "type": "mesh3d"
           }
          ],
          "parcoords": [
           {
            "line": {
             "colorbar": {
              "outlinewidth": 0,
              "ticks": ""
             }
            },
            "type": "parcoords"
           }
          ],
          "pie": [
           {
            "automargin": true,
            "type": "pie"
           }
          ],
          "scatter": [
           {
            "marker": {
             "line": {
              "color": "#283442"
             }
            },
            "type": "scatter"
           }
          ],
          "scatter3d": [
           {
            "line": {
             "colorbar": {
              "outlinewidth": 0,
              "ticks": ""
             }
            },
            "marker": {
             "colorbar": {
              "outlinewidth": 0,
              "ticks": ""
             }
            },
            "type": "scatter3d"
           }
          ],
          "scattercarpet": [
           {
            "marker": {
             "colorbar": {
              "outlinewidth": 0,
              "ticks": ""
             }
            },
            "type": "scattercarpet"
           }
          ],
          "scattergeo": [
           {
            "marker": {
             "colorbar": {
              "outlinewidth": 0,
              "ticks": ""
             }
            },
            "type": "scattergeo"
           }
          ],
          "scattergl": [
           {
            "marker": {
             "line": {
              "color": "#283442"
             }
            },
            "type": "scattergl"
           }
          ],
          "scattermapbox": [
           {
            "marker": {
             "colorbar": {
              "outlinewidth": 0,
              "ticks": ""
             }
            },
            "type": "scattermapbox"
           }
          ],
          "scatterpolar": [
           {
            "marker": {
             "colorbar": {
              "outlinewidth": 0,
              "ticks": ""
             }
            },
            "type": "scatterpolar"
           }
          ],
          "scatterpolargl": [
           {
            "marker": {
             "colorbar": {
              "outlinewidth": 0,
              "ticks": ""
             }
            },
            "type": "scatterpolargl"
           }
          ],
          "scatterternary": [
           {
            "marker": {
             "colorbar": {
              "outlinewidth": 0,
              "ticks": ""
             }
            },
            "type": "scatterternary"
           }
          ],
          "surface": [
           {
            "colorbar": {
             "outlinewidth": 0,
             "ticks": ""
            },
            "colorscale": [
             [
              0,
              "#0d0887"
             ],
             [
              0.1111111111111111,
              "#46039f"
             ],
             [
              0.2222222222222222,
              "#7201a8"
             ],
             [
              0.3333333333333333,
              "#9c179e"
             ],
             [
              0.4444444444444444,
              "#bd3786"
             ],
             [
              0.5555555555555556,
              "#d8576b"
             ],
             [
              0.6666666666666666,
              "#ed7953"
             ],
             [
              0.7777777777777778,
              "#fb9f3a"
             ],
             [
              0.8888888888888888,
              "#fdca26"
             ],
             [
              1,
              "#f0f921"
             ]
            ],
            "type": "surface"
           }
          ],
          "table": [
           {
            "cells": {
             "fill": {
              "color": "#506784"
             },
             "line": {
              "color": "rgb(17,17,17)"
             }
            },
            "header": {
             "fill": {
              "color": "#2a3f5f"
             },
             "line": {
              "color": "rgb(17,17,17)"
             }
            },
            "type": "table"
           }
          ]
         },
         "layout": {
          "annotationdefaults": {
           "arrowcolor": "#f2f5fa",
           "arrowhead": 0,
           "arrowwidth": 1
          },
          "autotypenumbers": "strict",
          "coloraxis": {
           "colorbar": {
            "outlinewidth": 0,
            "ticks": ""
           }
          },
          "colorscale": {
           "diverging": [
            [
             0,
             "#8e0152"
            ],
            [
             0.1,
             "#c51b7d"
            ],
            [
             0.2,
             "#de77ae"
            ],
            [
             0.3,
             "#f1b6da"
            ],
            [
             0.4,
             "#fde0ef"
            ],
            [
             0.5,
             "#f7f7f7"
            ],
            [
             0.6,
             "#e6f5d0"
            ],
            [
             0.7,
             "#b8e186"
            ],
            [
             0.8,
             "#7fbc41"
            ],
            [
             0.9,
             "#4d9221"
            ],
            [
             1,
             "#276419"
            ]
           ],
           "sequential": [
            [
             0,
             "#0d0887"
            ],
            [
             0.1111111111111111,
             "#46039f"
            ],
            [
             0.2222222222222222,
             "#7201a8"
            ],
            [
             0.3333333333333333,
             "#9c179e"
            ],
            [
             0.4444444444444444,
             "#bd3786"
            ],
            [
             0.5555555555555556,
             "#d8576b"
            ],
            [
             0.6666666666666666,
             "#ed7953"
            ],
            [
             0.7777777777777778,
             "#fb9f3a"
            ],
            [
             0.8888888888888888,
             "#fdca26"
            ],
            [
             1,
             "#f0f921"
            ]
           ],
           "sequentialminus": [
            [
             0,
             "#0d0887"
            ],
            [
             0.1111111111111111,
             "#46039f"
            ],
            [
             0.2222222222222222,
             "#7201a8"
            ],
            [
             0.3333333333333333,
             "#9c179e"
            ],
            [
             0.4444444444444444,
             "#bd3786"
            ],
            [
             0.5555555555555556,
             "#d8576b"
            ],
            [
             0.6666666666666666,
             "#ed7953"
            ],
            [
             0.7777777777777778,
             "#fb9f3a"
            ],
            [
             0.8888888888888888,
             "#fdca26"
            ],
            [
             1,
             "#f0f921"
            ]
           ]
          },
          "colorway": [
           "#636efa",
           "#EF553B",
           "#00cc96",
           "#ab63fa",
           "#FFA15A",
           "#19d3f3",
           "#FF6692",
           "#B6E880",
           "#FF97FF",
           "#FECB52"
          ],
          "font": {
           "color": "#f2f5fa"
          },
          "geo": {
           "bgcolor": "rgb(17,17,17)",
           "lakecolor": "rgb(17,17,17)",
           "landcolor": "rgb(17,17,17)",
           "showlakes": true,
           "showland": true,
           "subunitcolor": "#506784"
          },
          "hoverlabel": {
           "align": "left"
          },
          "hovermode": "closest",
          "mapbox": {
           "style": "dark"
          },
          "paper_bgcolor": "rgb(17,17,17)",
          "plot_bgcolor": "rgb(17,17,17)",
          "polar": {
           "angularaxis": {
            "gridcolor": "#506784",
            "linecolor": "#506784",
            "ticks": ""
           },
           "bgcolor": "rgb(17,17,17)",
           "radialaxis": {
            "gridcolor": "#506784",
            "linecolor": "#506784",
            "ticks": ""
           }
          },
          "scene": {
           "xaxis": {
            "backgroundcolor": "rgb(17,17,17)",
            "gridcolor": "#506784",
            "gridwidth": 2,
            "linecolor": "#506784",
            "showbackground": true,
            "ticks": "",
            "zerolinecolor": "#C8D4E3"
           },
           "yaxis": {
            "backgroundcolor": "rgb(17,17,17)",
            "gridcolor": "#506784",
            "gridwidth": 2,
            "linecolor": "#506784",
            "showbackground": true,
            "ticks": "",
            "zerolinecolor": "#C8D4E3"
           },
           "zaxis": {
            "backgroundcolor": "rgb(17,17,17)",
            "gridcolor": "#506784",
            "gridwidth": 2,
            "linecolor": "#506784",
            "showbackground": true,
            "ticks": "",
            "zerolinecolor": "#C8D4E3"
           }
          },
          "shapedefaults": {
           "line": {
            "color": "#f2f5fa"
           }
          },
          "sliderdefaults": {
           "bgcolor": "#C8D4E3",
           "bordercolor": "rgb(17,17,17)",
           "borderwidth": 1,
           "tickwidth": 0
          },
          "ternary": {
           "aaxis": {
            "gridcolor": "#506784",
            "linecolor": "#506784",
            "ticks": ""
           },
           "baxis": {
            "gridcolor": "#506784",
            "linecolor": "#506784",
            "ticks": ""
           },
           "bgcolor": "rgb(17,17,17)",
           "caxis": {
            "gridcolor": "#506784",
            "linecolor": "#506784",
            "ticks": ""
           }
          },
          "title": {
           "x": 0.05
          },
          "updatemenudefaults": {
           "bgcolor": "#506784",
           "borderwidth": 0
          },
          "xaxis": {
           "automargin": true,
           "gridcolor": "#283442",
           "linecolor": "#506784",
           "ticks": "",
           "title": {
            "standoff": 15
           },
           "zerolinecolor": "#283442",
           "zerolinewidth": 2
          },
          "yaxis": {
           "automargin": true,
           "gridcolor": "#283442",
           "linecolor": "#506784",
           "ticks": "",
           "title": {
            "standoff": 15
           },
           "zerolinecolor": "#283442",
           "zerolinewidth": 2
          }
         }
        },
        "title": {
         "text": "Sum of Credit Amount ($) By Gender",
         "x": 0.5,
         "yanchor": "top"
        },
        "xaxis": {
         "anchor": "y",
         "domain": [
          0,
          1
         ],
         "title": {
          "text": "Sex"
         }
        },
        "yaxis": {
         "anchor": "x",
         "domain": [
          0,
          1
         ],
         "title": {
          "text": "Sum of Credit Amount ($)"
         }
        }
       }
      }
     },
     "metadata": {},
     "output_type": "display_data"
    },
    {
     "data": {
      "text/plain": [
       "([<matplotlib.axis.XTick at 0x7fc0290b5050>,\n",
       "  <matplotlib.axis.XTick at 0x7fc0290b5290>,\n",
       "  <matplotlib.axis.XTick at 0x7fc04a59d650>,\n",
       "  <matplotlib.axis.XTick at 0x7fc04a861310>],\n",
       " [Text(0, 0, 'unskilled and non-resident'),\n",
       "  Text(1, 0, 'unskilled and resident'),\n",
       "  Text(2, 0, 'skilled'),\n",
       "  Text(3, 0, 'highly skilled')])"
      ]
     },
     "execution_count": 31,
     "metadata": {},
     "output_type": "execute_result"
    },
    {
     "data": {
      "image/png": "[encoded data removed]",
      "text/plain": [
       "<Figure size 1080x432 with 1 Axes>"
      ]
     },
     "metadata": {},
     "output_type": "display_data"
    }
   ],
   "source": [
    "# sex vs credit amount \n",
    "fig = px.histogram(df,\n",
    "    x = df['Sex'],\n",
    "    y = df['Credit amount'],\n",
    "    template = 'plotly_dark',\n",
    "    color_discrete_sequence = px.colors.sequential.deep)\n",
    "\n",
    "fig.update_layout(\n",
    "    yaxis_title = 'Sum of Credit Amount ($)',\n",
    "    title = {\n",
    "        'text': 'Sum of Credit Amount ($) By Gender',\n",
    "        'x': 0.5,\n",
    "        'yanchor': 'top'\n",
    "    }\n",
    ")\n",
    "\n",
    "fig.show()\n",
    "\n",
    "# Job \n",
    "fig = sns.countplot(data = df,\n",
    "x = 'Job',\n",
    "hue = 'Sex',\n",
    "palette = 'Paired')\n",
    "\n",
    "plt.title('Count of Males and Females per Job Type', fontdict = {'fontsize':15})\n",
    "plt.ylabel('Total Count')\n",
    "plt.xticks([0,1,2,3], ['unskilled and non-resident','unskilled and resident','skilled','highly skilled'])\n",
    "\n"
   ]
  },
  {
   "cell_type": "code",
   "execution_count": 32,
   "metadata": {},
   "outputs": [
    {
     "data": {
      "text/plain": [
       "Text(0, 0.5, 'Total Count')"
      ]
     },
     "execution_count": 32,
     "metadata": {},
     "output_type": "execute_result"
    },
    {
     "data": {
      "image/png": "[encoded data removed]",
      "text/plain": [
       "<Figure size 1080x432 with 1 Axes>"
      ]
     },
     "metadata": {},
     "output_type": "display_data"
    }
   ],
   "source": [
    "# Total counts of withdrawl types by gender\n",
    "sns.countplot(data = df,\n",
    "    x = 'Purpose',\n",
    "    hue = 'Sex',\n",
    "    palette = 'Paired')\n",
    "\n",
    "plt.title('Total Counts of Credit withdrawl Types by Gender', fontdict = {'fontsize': 15})\n",
    "plt.xlabel('')\n",
    "plt.ylabel('Total Count')"
   ]
  },
  {
   "cell_type": "code",
   "execution_count": 34,
   "metadata": {},
   "outputs": [
    {
     "data": {
      "text/plain": [
       "Text(5.329791666666665, 0.5, 'Total Count')"
      ]
     },
     "execution_count": 34,
     "metadata": {},
     "output_type": "execute_result"
    },
    {
     "data": {
      "image/png": "[encoded data removed]",
      "text/plain": [
       "<Figure size 1510.5x360 with 1 Axes>"
      ]
     },
     "metadata": {},
     "output_type": "display_data"
    }
   ],
   "source": [
    "# Duration by Sex\n",
    "sns.displot(data = df,\n",
    "    x = 'Duration',\n",
    "    hue = 'Sex',\n",
    "    kde = True,\n",
    "    palette = 'Paired',\n",
    "    aspect = 4\n",
    ")\n",
    "\n",
    "plt.title('Distribution of Duration of Credit by Gender', fontdict = {'fontsize': 20})\n",
    "plt.xlabel('Duration (Months)')\n",
    "plt.ylabel('Total Count')\n",
    "\n"
   ]
  },
  {
   "cell_type": "code",
   "execution_count": 35,
   "metadata": {},
   "outputs": [
    {
     "data": {
      "text/plain": [
       "<matplotlib.legend.Legend at 0x7fc059750cd0>"
      ]
     },
     "execution_count": 35,
     "metadata": {},
     "output_type": "execute_result"
    },
    {
     "data": {
      "image/png": "[encoded data removed]",
      "text/plain": [
       "<Figure size 1440x360 with 1 Axes>"
      ]
     },
     "metadata": {},
     "output_type": "display_data"
    }
   ],
   "source": [
    "# Age distribution while having different jobs\n",
    "sns.displot(data = df,\n",
    "    x = df['Age'],\n",
    "    hue = df['Job'],\n",
    "    kde = True,\n",
    "    palette = 'Paired',\n",
    "    aspect = 4,\n",
    "    legend = False\n",
    ")\n",
    "\n",
    "plt.title('Distribution of Age for All Job Types', fontdict = {'fontsize': 20})\n",
    "plt.legend(['unskilled and non-resident','unskilled and resident','skilled','highly skilled'])\n"
   ]
  },
  {
   "cell_type": "code",
   "execution_count": 15,
   "metadata": {},
   "outputs": [
    {
     "data": {
      "application/vnd.plotly.v1+json": {
       "config": {
        "plotlyServerURL": "https://plot.ly"
       },
       "data": [
        {
         "alignmentgroup": "True",
         "bingroup": "x",
         "hovertemplate": "Saving accounts=little<br>Credit amount=%{x}<br>count=%{y}<extra></extra>",
         "legendgroup": "little",
         "marker": {
          "color": "rgb(253, 253, 204)",
          "pattern": {
           "shape": ""
          }
         },
         "name": "little",
         "offsetgroup": "little",
         "orientation": "v",
         "showlegend": true,
         "type": "histogram",
         "x": [
          1169,
          5951,
          2096,
          7882,
          4870,
          9055,
          6948,
          5234,
          1295,
          4308,
          1567,
          1199,
          1403,
          2424,
          8072,
          12579,
          2134,
          2241,
          2069,
          1374,
          426,
          2415,
          6836,
          4020,
          1264,
          1474,
          4746,
          6110,
          2100,
          1225,
          458,
          6204,
          6143,
          1393,
          7228,
          2333,
          5965,
          1262,
          3378,
          2225,
          783,
          6468,
          9566,
          1961,
          6229,
          1391,
          1537,
          1953,
          14421,
          3181,
          5190,
          2171,
          1819,
          2394,
          8133,
          730,
          1164,
          5954,
          1977,
          1526,
          3965,
          4771,
          9436,
          3832,
          5943,
          1755,
          2315,
          1412,
          1295,
          1108,
          618,
          1409,
          797,
          3617,
          15945,
          2012,
          2337,
          7057,
          2323,
          932,
          1919,
          2445,
          11938,
          6458,
          6078,
          7721,
          392,
          6260,
          7855,
          3578,
          7174,
          2132,
          1835,
          3868,
          1768,
          781,
          1924,
          2121,
          701,
          639,
          1860,
          3499,
          8487,
          6887,
          2708,
          1984,
          1240,
          2728,
          1881,
          4795,
          3416,
          2462,
          2288,
          860,
          5371,
          1924,
          5848,
          1282,
          339,
          1898,
          1055,
          7308,
          1131,
          3972,
          1935,
          950,
          763,
          2064,
          1414,
          3414,
          7485,
          2577,
          1963,
          571,
          9572,
          4455,
          1647,
          884,
          1360,
          5129,
          1175,
          3244,
          3915,
          2108,
          1501,
          1382,
          2760,
          4297,
          1168,
          5117,
          902,
          1495,
          10623,
          1935,
          1424,
          6568,
          3074,
          3835,
          5293,
          1908,
          3342,
          932,
          3104,
          3913,
          3021,
          1364,
          625,
          1200,
          707,
          2978,
          4657,
          2613,
          7865,
          1478,
          3149,
          4210,
          866,
          1544,
          1823,
          14555,
          1291,
          2522,
          915,
          1595,
          4605,
          1185,
          1258,
          717,
          1925,
          433,
          2251,
          2150,
          2030,
          7418,
          2684,
          2149,
          1657,
          1603,
          5302,
          2748,
          1231,
          802,
          6304,
          1533,
          8978,
          999,
          2662,
          12169,
          3060,
          11998,
          2697,
          2404,
          1262,
          4611,
          1574,
          1445,
          1520,
          10722,
          4788,
          1092,
          1024,
          1076,
          9398,
          6419,
          4796,
          7629,
          9960,
          4675,
          1287,
          2515,
          672,
          3804,
          1344,
          1038,
          4811,
          1237,
          276,
          5381,
          3749,
          685,
          1494,
          2746,
          708,
          4351,
          701,
          3643,
          4249,
          1938,
          2910,
          1028,
          3398,
          5801,
          4473,
          1068,
          6615,
          4110,
          3384,
          2101,
          1275,
          4169,
          1521,
          5743,
          3599,
          4439,
          3949,
          1459,
          882,
          1236,
          959,
          3229,
          6199,
          1246,
          2331,
          4463,
          776,
          2406,
          1239,
          3399,
          2247,
          1766,
          2473,
          1542,
          3850,
          3650,
          3446,
          3001,
          3079,
          6070,
          2146,
          13756,
          7685,
          2320,
          846,
          14318,
          2212,
          12976,
          1283,
          1330,
          2238,
          1126,
          7374,
          1449,
          1820,
          3249,
          1957,
          2406,
          2578,
          2348,
          1223,
          1473,
          1887,
          8648,
          802,
          2899,
          2039,
          2197,
          1053,
          1967,
          7253,
          2292,
          1381,
          5842,
          2579,
          8471,
          1042,
          2028,
          958,
          2762,
          2779,
          2743,
          1313,
          1190,
          3448,
          11328,
          1872,
          2058,
          2136,
          1484,
          3394,
          609,
          1884,
          1620,
          2629,
          719,
          5096,
          1244,
          1842,
          2576,
          1424,
          11054,
          518,
          2759,
          2670,
          4817,
          2679,
          3905,
          3386,
          343,
          4594,
          3620,
          1721,
          3017,
          754,
          1950,
          2924,
          1659,
          7238,
          2764,
          4679,
          448,
          654,
          1238,
          1245,
          3114,
          5152,
          1478,
          3573,
          1201,
          1209,
          3077,
          3757,
          3518,
          1934,
          8318,
          368,
          2122,
          2996,
          1585,
          1301,
          3123,
          5493,
          1207,
          1309,
          1413,
          759,
          4686,
          2687,
          585,
          2255,
          609,
          1361,
          7127,
          700,
          5507,
          3190,
          7119,
          1113,
          7966,
          1503,
          2302,
          662,
          2273,
          1503,
          3105,
          2319,
          1374,
          3612,
          7763,
          3049,
          1534,
          2032,
          6350,
          2864,
          1255,
          1333,
          2022,
          1552,
          626,
          8858,
          996,
          6999,
          1199,
          1331,
          5003,
          3552,
          1928,
          2964,
          1546,
          683,
          12389,
          4712,
          1372,
          3979,
          6758,
          3234,
          5954,
          5433,
          806,
          1082,
          2788,
          2930,
          1927,
          2820,
          937,
          1056,
          3124,
          1388,
          2384,
          2133,
          2039,
          2799,
          1289,
          1217,
          2246,
          385,
          1965,
          2718,
          1358,
          1442,
          4241,
          2775,
          3863,
          2329,
          918,
          1837,
          3349,
          1275,
          4526,
          2051,
          1300,
          3632,
          1808,
          12204,
          9157,
          3676,
          640,
          3652,
          1530,
          3914,
          1858,
          2600,
          1979,
          2116,
          3832,
          3660,
          1553,
          1444,
          1980,
          1355,
          1393,
          15653,
          1493,
          4370,
          750,
          1308,
          1851,
          1880,
          7980,
          4583,
          947,
          684,
          7476,
          1922,
          2303,
          2346,
          3973,
          888,
          10222,
          4221,
          6361,
          1297,
          900,
          2241,
          1050,
          1047,
          6314,
          3609,
          4843,
          3017,
          10366,
          4530,
          5150,
          2384,
          1453,
          1538,
          2279,
          1478,
          5103,
          6527,
          1347,
          975,
          4716,
          2284,
          1103,
          926,
          1800,
          1905,
          6331,
          2528,
          2969,
          1206,
          2118,
          1198,
          2476,
          1138,
          14027,
          7596,
          3077,
          1505,
          3148,
          1337,
          1228,
          2570,
          1882,
          6416,
          6403,
          1987,
          760,
          3380,
          3990,
          11560,
          6761,
          1048,
          3160,
          14179,
          1797,
          2511,
          1274,
          5248,
          3029,
          428,
          976,
          5771,
          1285,
          1299,
          1271,
          1393,
          691,
          5045,
          2124,
          2214,
          12680,
          1155,
          3108,
          2901,
          3617,
          1655,
          2812,
          8065,
          3275,
          1371,
          3535,
          3509,
          3872,
          4933,
          1410,
          6468,
          2751,
          6224,
          5998,
          1188,
          6313,
          1221,
          2892,
          7511,
          1258,
          717,
          1549,
          1597,
          1795,
          4272,
          976,
          7472,
          9271,
          590,
          930,
          9283,
          1778,
          907,
          484,
          9629,
          3051,
          3931,
          7432,
          1554,
          15857,
          1345,
          1101,
          3016,
          2712,
          731,
          3780,
          1602,
          3966,
          4165,
          8335,
          6681,
          1216,
          11816,
          5084,
          2327,
          1082,
          886,
          601,
          2957,
          2611,
          5179,
          2993,
          1943,
          1559,
          3422,
          3976,
          6761,
          1249,
          1364,
          709,
          2235,
          4042,
          1471,
          1442,
          10875,
          894,
          3343,
          3959,
          2169,
          2439,
          2210,
          2389,
          3331,
          7409,
          652,
          1343,
          874,
          3590,
          1940,
          3595,
          1422,
          6742,
          7814,
          9277,
          2181,
          1098,
          4057,
          795,
          2825,
          15672,
          6614,
          7824,
          2442,
          1829,
          2171,
          5800,
          1169,
          8947,
          2606,
          2186,
          4153,
          2625,
          3485,
          10477,
          1386,
          1278,
          1107,
          3763,
          3711,
          3594,
          3195,
          4454,
          4736,
          2991,
          3161,
          18424,
          14896,
          3345,
          1817,
          1366,
          2002,
          6872,
          697,
          1049,
          10297,
          1867,
          1344,
          1747,
          1670,
          1224,
          1498,
          745,
          2063,
          6288,
          6842,
          3527,
          1546,
          929,
          1455,
          1845,
          2859,
          1533,
          3590,
          2145,
          10974,
          1893,
          3656,
          1154,
          4006,
          1740,
          2353,
          3556,
          454,
          1715,
          3568,
          7166,
          3939,
          7393,
          1193,
          7297,
          2831,
          753,
          2427,
          2538,
          8386,
          4844,
          8229,
          2028,
          1433,
          6289,
          6579,
          1743,
          3565,
          1936,
          3959,
          2390,
          1736,
          3857,
          804,
          1845
         ],
         "xaxis": "x",
         "yaxis": "y"
        },
        {
         "alignmentgroup": "True",
         "hovertemplate": "Saving accounts=little<br>Credit amount=%{x}<extra></extra>",
         "legendgroup": "little",
         "marker": {
          "color": "rgb(253, 253, 204)"
         },
         "name": "little",
         "notched": true,
         "offsetgroup": "little",
         "showlegend": false,
         "type": "box",
         "x": [
          1169,
          5951,
          2096,
          7882,
          4870,
          9055,
          6948,
          5234,
          1295,
          4308,
          1567,
          1199,
          1403,
          2424,
          8072,
          12579,
          2134,
          2241,
          2069,
          1374,
          426,
          2415,
          6836,
          4020,
          1264,
          1474,
          4746,
          6110,
          2100,
          1225,
          458,
          6204,
          6143,
          1393,
          7228,
          2333,
          5965,
          1262,
          3378,
          2225,
          783,
          6468,
          9566,
          1961,
          6229,
          1391,
          1537,
          1953,
          14421,
          3181,
          5190,
          2171,
          1819,
          2394,
          8133,
          730,
          1164,
          5954,
          1977,
          1526,
          3965,
          4771,
          9436,
          3832,
          5943,
          1755,
          2315,
          1412,
          1295,
          1108,
          618,
          1409,
          797,
          3617,
          15945,
          2012,
          2337,
          7057,
          2323,
          932,
          1919,
          2445,
          11938,
          6458,
          6078,
          7721,
          392,
          6260,
          7855,
          3578,
          7174,
          2132,
          1835,
          3868,
          1768,
          781,
          1924,
          2121,
          701,
          639,
          1860,
          3499,
          8487,
          6887,
          2708,
          1984,
          1240,
          2728,
          1881,
          4795,
          3416,
          2462,
          2288,
          860,
          5371,
          1924,
          5848,
          1282,
          339,
          1898,
          1055,
          7308,
          1131,
          3972,
          1935,
          950,
          763,
          2064,
          1414,
          3414,
          7485,
          2577,
          1963,
          571,
          9572,
          4455,
          1647,
          884,
          1360,
          5129,
          1175,
          3244,
          3915,
          2108,
          1501,
          1382,
          2760,
          4297,
          1168,
          5117,
          902,
          1495,
          10623,
          1935,
          1424,
          6568,
          3074,
          3835,
          5293,
          1908,
          3342,
          932,
          3104,
          3913,
          3021,
          1364,
          625,
          1200,
          707,
          2978,
          4657,
          2613,
          7865,
          1478,
          3149,
          4210,
          866,
          1544,
          1823,
          14555,
          1291,
          2522,
          915,
          1595,
          4605,
          1185,
          1258,
          717,
          1925,
          433,
          2251,
          2150,
          2030,
          7418,
          2684,
          2149,
          1657,
          1603,
          5302,
          2748,
          1231,
          802,
          6304,
          1533,
          8978,
          999,
          2662,
          12169,
          3060,
          11998,
          2697,
          2404,
          1262,
          4611,
          1574,
          1445,
          1520,
          10722,
          4788,
          1092,
          1024,
          1076,
          9398,
          6419,
          4796,
          7629,
          9960,
          4675,
          1287,
          2515,
          672,
          3804,
          1344,
          1038,
          4811,
          1237,
          276,
          5381,
          3749,
          685,
          1494,
          2746,
          708,
          4351,
          701,
          3643,
          4249,
          1938,
          2910,
          1028,
          3398,
          5801,
          4473,
          1068,
          6615,
          4110,
          3384,
          2101,
          1275,
          4169,
          1521,
          5743,
          3599,
          4439,
          3949,
          1459,
          882,
          1236,
          959,
          3229,
          6199,
          1246,
          2331,
          4463,
          776,
          2406,
          1239,
          3399,
          2247,
          1766,
          2473,
          1542,
          3850,
          3650,
          3446,
          3001,
          3079,
          6070,
          2146,
          13756,
          7685,
          2320,
          846,
          14318,
          2212,
          12976,
          1283,
          1330,
          2238,
          1126,
          7374,
          1449,
          1820,
          3249,
          1957,
          2406,
          2578,
          2348,
          1223,
          1473,
          1887,
          8648,
          802,
          2899,
          2039,
          2197,
          1053,
          1967,
          7253,
          2292,
          1381,
          5842,
          2579,
          8471,
          1042,
          2028,
          958,
          2762,
          2779,
          2743,
          1313,
          1190,
          3448,
          11328,
          1872,
          2058,
          2136,
          1484,
          3394,
          609,
          1884,
          1620,
          2629,
          719,
          5096,
          1244,
          1842,
          2576,
          1424,
          11054,
          518,
          2759,
          2670,
          4817,
          2679,
          3905,
          3386,
          343,
          4594,
          3620,
          1721,
          3017,
          754,
          1950,
          2924,
          1659,
          7238,
          2764,
          4679,
          448,
          654,
          1238,
          1245,
          3114,
          5152,
          1478,
          3573,
          1201,
          1209,
          3077,
          3757,
          3518,
          1934,
          8318,
          368,
          2122,
          2996,
          1585,
          1301,
          3123,
          5493,
          1207,
          1309,
          1413,
          759,
          4686,
          2687,
          585,
          2255,
          609,
          1361,
          7127,
          700,
          5507,
          3190,
          7119,
          1113,
          7966,
          1503,
          2302,
          662,
          2273,
          1503,
          3105,
          2319,
          1374,
          3612,
          7763,
          3049,
          1534,
          2032,
          6350,
          2864,
          1255,
          1333,
          2022,
          1552,
          626,
          8858,
          996,
          6999,
          1199,
          1331,
          5003,
          3552,
          1928,
          2964,
          1546,
          683,
          12389,
          4712,
          1372,
          3979,
          6758,
          3234,
          5954,
          5433,
          806,
          1082,
          2788,
          2930,
          1927,
          2820,
          937,
          1056,
          3124,
          1388,
          2384,
          2133,
          2039,
          2799,
          1289,
          1217,
          2246,
          385,
          1965,
          2718,
          1358,
          1442,
          4241,
          2775,
          3863,
          2329,
          918,
          1837,
          3349,
          1275,
          4526,
          2051,
          1300,
          3632,
          1808,
          12204,
          9157,
          3676,
          640,
          3652,
          1530,
          3914,
          1858,
          2600,
          1979,
          2116,
          3832,
          3660,
          1553,
          1444,
          1980,
          1355,
          1393,
          15653,
          1493,
          4370,
          750,
          1308,
          1851,
          1880,
          7980,
          4583,
          947,
          684,
          7476,
          1922,
          2303,
          2346,
          3973,
          888,
          10222,
          4221,
          6361,
          1297,
          900,
          2241,
          1050,
          1047,
          6314,
          3609,
          4843,
          3017,
          10366,
          4530,
          5150,
          2384,
          1453,
          1538,
          2279,
          1478,
          5103,
          6527,
          1347,
          975,
          4716,
          2284,
          1103,
          926,
          1800,
          1905,
          6331,
          2528,
          2969,
          1206,
          2118,
          1198,
          2476,
          1138,
          14027,
          7596,
          3077,
          1505,
          3148,
          1337,
          1228,
          2570,
          1882,
          6416,
          6403,
          1987,
          760,
          3380,
          3990,
          11560,
          6761,
          1048,
          3160,
          14179,
          1797,
          2511,
          1274,
          5248,
          3029,
          428,
          976,
          5771,
          1285,
          1299,
          1271,
          1393,
          691,
          5045,
          2124,
          2214,
          12680,
          1155,
          3108,
          2901,
          3617,
          1655,
          2812,
          8065,
          3275,
          1371,
          3535,
          3509,
          3872,
          4933,
          1410,
          6468,
          2751,
          6224,
          5998,
          1188,
          6313,
          1221,
          2892,
          7511,
          1258,
          717,
          1549,
          1597,
          1795,
          4272,
          976,
          7472,
          9271,
          590,
          930,
          9283,
          1778,
          907,
          484,
          9629,
          3051,
          3931,
          7432,
          1554,
          15857,
          1345,
          1101,
          3016,
          2712,
          731,
          3780,
          1602,
          3966,
          4165,
          8335,
          6681,
          1216,
          11816,
          5084,
          2327,
          1082,
          886,
          601,
          2957,
          2611,
          5179,
          2993,
          1943,
          1559,
          3422,
          3976,
          6761,
          1249,
          1364,
          709,
          2235,
          4042,
          1471,
          1442,
          10875,
          894,
          3343,
          3959,
          2169,
          2439,
          2210,
          2389,
          3331,
          7409,
          652,
          1343,
          874,
          3590,
          1940,
          3595,
          1422,
          6742,
          7814,
          9277,
          2181,
          1098,
          4057,
          795,
          2825,
          15672,
          6614,
          7824,
          2442,
          1829,
          2171,
          5800,
          1169,
          8947,
          2606,
          2186,
          4153,
          2625,
          3485,
          10477,
          1386,
          1278,
          1107,
          3763,
          3711,
          3594,
          3195,
          4454,
          4736,
          2991,
          3161,
          18424,
          14896,
          3345,
          1817,
          1366,
          2002,
          6872,
          697,
          1049,
          10297,
          1867,
          1344,
          1747,
          1670,
          1224,
          1498,
          745,
          2063,
          6288,
          6842,
          3527,
          1546,
          929,
          1455,
          1845,
          2859,
          1533,
          3590,
          2145,
          10974,
          1893,
          3656,
          1154,
          4006,
          1740,
          2353,
          3556,
          454,
          1715,
          3568,
          7166,
          3939,
          7393,
          1193,
          7297,
          2831,
          753,
          2427,
          2538,
          8386,
          4844,
          8229,
          2028,
          1433,
          6289,
          6579,
          1743,
          3565,
          1936,
          3959,
          2390,
          1736,
          3857,
          804,
          1845
         ],
         "xaxis": "x2",
         "yaxis": "y2"
        },
        {
         "alignmentgroup": "True",
         "bingroup": "x",
         "hovertemplate": "Saving accounts=quite rich<br>Credit amount=%{x}<br>count=%{y}<extra></extra>",
         "legendgroup": "quite rich",
         "marker": {
          "color": "rgb(206, 236, 179)",
          "pattern": {
           "shape": ""
          }
         },
         "name": "quite rich",
         "offsetgroup": "quite rich",
         "orientation": "v",
         "showlegend": true,
         "type": "histogram",
         "x": [
          2835,
          3430,
          2647,
          2333,
          1158,
          2299,
          1352,
          1213,
          1410,
          1680,
          4281,
          2366,
          766,
          1262,
          909,
          2978,
          338,
          936,
          2507,
          3447,
          1402,
          10127,
          3213,
          3758,
          727,
          2326,
          3235,
          939,
          1597,
          2782,
          660,
          2569,
          1163,
          2360,
          1750,
          2828,
          4042,
          1376,
          1386,
          2080,
          2580,
          1236,
          1123,
          5324,
          629,
          790,
          1316,
          2483,
          1480,
          2675,
          3062,
          1338,
          2375,
          2221,
          7678,
          12749,
          522,
          8358,
          3349,
          4113,
          2397,
          2520,
          1258
         ],
         "xaxis": "x",
         "yaxis": "y"
        },
        {
         "alignmentgroup": "True",
         "hovertemplate": "Saving accounts=quite rich<br>Credit amount=%{x}<extra></extra>",
         "legendgroup": "quite rich",
         "marker": {
          "color": "rgb(206, 236, 179)"
         },
         "name": "quite rich",
         "notched": true,
         "offsetgroup": "quite rich",
         "showlegend": false,
         "type": "box",
         "x": [
          2835,
          3430,
          2647,
          2333,
          1158,
          2299,
          1352,
          1213,
          1410,
          1680,
          4281,
          2366,
          766,
          1262,
          909,
          2978,
          338,
          936,
          2507,
          3447,
          1402,
          10127,
          3213,
          3758,
          727,
          2326,
          3235,
          939,
          1597,
          2782,
          660,
          2569,
          1163,
          2360,
          1750,
          2828,
          4042,
          1376,
          1386,
          2080,
          2580,
          1236,
          1123,
          5324,
          629,
          790,
          1316,
          2483,
          1480,
          2675,
          3062,
          1338,
          2375,
          2221,
          7678,
          12749,
          522,
          8358,
          3349,
          4113,
          2397,
          2520,
          1258
         ],
         "xaxis": "x2",
         "yaxis": "y2"
        },
        {
         "alignmentgroup": "True",
         "bingroup": "x",
         "hovertemplate": "Saving accounts=rich<br>Credit amount=%{x}<br>count=%{y}<extra></extra>",
         "legendgroup": "rich",
         "marker": {
          "color": "rgb(156, 219, 165)",
          "pattern": {
           "shape": ""
          }
         },
         "name": "rich",
         "offsetgroup": "rich",
         "orientation": "v",
         "showlegend": true,
         "type": "histogram",
         "x": [
          3059,
          409,
          1913,
          1007,
          1318,
          8613,
          709,
          1582,
          7758,
          1577,
          3777,
          4591,
          1413,
          10961,
          666,
          3368,
          2745,
          1543,
          2659,
          1525,
          1136,
          983,
          1516,
          3186,
          1149,
          1287,
          1512,
          3622,
          960,
          2578,
          1572,
          3357,
          3496,
          3651,
          433,
          250,
          1275,
          2603,
          1555,
          5711,
          1940,
          1941,
          5804,
          4526,
          1322,
          1592,
          2142,
          1231
         ],
         "xaxis": "x",
         "yaxis": "y"
        },
        {
         "alignmentgroup": "True",
         "hovertemplate": "Saving accounts=rich<br>Credit amount=%{x}<extra></extra>",
         "legendgroup": "rich",
         "marker": {
          "color": "rgb(156, 219, 165)"
         },
         "name": "rich",
         "notched": true,
         "offsetgroup": "rich",
         "showlegend": false,
         "type": "box",
         "x": [
          3059,
          409,
          1913,
          1007,
          1318,
          8613,
          709,
          1582,
          7758,
          1577,
          3777,
          4591,
          1413,
          10961,
          666,
          3368,
          2745,
          1543,
          2659,
          1525,
          1136,
          983,
          1516,
          3186,
          1149,
          1287,
          1512,
          3622,
          960,
          2578,
          1572,
          3357,
          3496,
          3651,
          433,
          250,
          1275,
          2603,
          1555,
          5711,
          1940,
          1941,
          5804,
          4526,
          1322,
          1592,
          2142,
          1231
         ],
         "xaxis": "x2",
         "yaxis": "y2"
        },
        {
         "alignmentgroup": "True",
         "bingroup": "x",
         "hovertemplate": "Saving accounts=moderate<br>Credit amount=%{x}<br>count=%{y}<extra></extra>",
         "legendgroup": "moderate",
         "marker": {
          "color": "rgb(111, 201, 163)",
          "pattern": {
           "shape": ""
          }
         },
         "name": "moderate",
         "offsetgroup": "moderate",
         "orientation": "v",
         "showlegend": true,
         "type": "histogram",
         "x": [
          1282,
          1804,
          5866,
          6187,
          2073,
          1568,
          12612,
          2249,
          2622,
          1469,
          1449,
          10144,
          3566,
          682,
          1346,
          6967,
          1288,
          3512,
          2872,
          674,
          3844,
          3031,
          951,
          2141,
          2767,
          1204,
          4151,
          3812,
          1154,
          1901,
          3878,
          7582,
          727,
          5511,
          1864,
          7408,
          11590,
          1743,
          14782,
          362,
          4272,
          11760,
          1591,
          3092,
          1037,
          1418,
          1237,
          9034,
          1323,
          1126,
          1216,
          6850,
          8588,
          1203,
          3488,
          1532,
          2631,
          1311,
          1995,
          2278,
          1553,
          931,
          2671,
          741,
          1240,
          3441,
          1437,
          4623,
          8086,
          4139,
          5742,
          5595,
          9857,
          2862,
          2753,
          2631,
          2896,
          1377,
          2503,
          6560,
          6148,
          4380,
          4280,
          2325,
          841,
          2463,
          2223,
          836,
          2301,
          1474,
          3577,
          1382,
          2848,
          2359,
          1919,
          3621,
          3069,
          1514,
          1264,
          2923,
          1409,
          1569,
          4576
         ],
         "xaxis": "x",
         "yaxis": "y"
        },
        {
         "alignmentgroup": "True",
         "hovertemplate": "Saving accounts=moderate<br>Credit amount=%{x}<extra></extra>",
         "legendgroup": "moderate",
         "marker": {
          "color": "rgb(111, 201, 163)"
         },
         "name": "moderate",
         "notched": true,
         "offsetgroup": "moderate",
         "showlegend": false,
         "type": "box",
         "x": [
          1282,
          1804,
          5866,
          6187,
          2073,
          1568,
          12612,
          2249,
          2622,
          1469,
          1449,
          10144,
          3566,
          682,
          1346,
          6967,
          1288,
          3512,
          2872,
          674,
          3844,
          3031,
          951,
          2141,
          2767,
          1204,
          4151,
          3812,
          1154,
          1901,
          3878,
          7582,
          727,
          5511,
          1864,
          7408,
          11590,
          1743,
          14782,
          362,
          4272,
          11760,
          1591,
          3092,
          1037,
          1418,
          1237,
          9034,
          1323,
          1126,
          1216,
          6850,
          8588,
          1203,
          3488,
          1532,
          2631,
          1311,
          1995,
          2278,
          1553,
          931,
          2671,
          741,
          1240,
          3441,
          1437,
          4623,
          8086,
          4139,
          5742,
          5595,
          9857,
          2862,
          2753,
          2631,
          2896,
          1377,
          2503,
          6560,
          6148,
          4380,
          4280,
          2325,
          841,
          2463,
          2223,
          836,
          2301,
          1474,
          3577,
          1382,
          2848,
          2359,
          1919,
          3621,
          3069,
          1514,
          1264,
          2923,
          1409,
          1569,
          4576
         ],
         "xaxis": "x2",
         "yaxis": "y2"
        }
       ],
       "layout": {
        "barmode": "group",
        "legend": {
         "title": {
          "text": "Saving accounts"
         },
         "tracegroupgap": 0
        },
        "margin": {
         "t": 60
        },
        "template": {
         "data": {
          "bar": [
           {
            "error_x": {
             "color": "#f2f5fa"
            },
            "error_y": {
             "color": "#f2f5fa"
            },
            "marker": {
             "line": {
              "color": "rgb(17,17,17)",
              "width": 0.5
             },
             "pattern": {
              "fillmode": "overlay",
              "size": 10,
              "solidity": 0.2
             }
            },
            "type": "bar"
           }
          ],
          "barpolar": [
           {
            "marker": {
             "line": {
              "color": "rgb(17,17,17)",
              "width": 0.5
             },
             "pattern": {
              "fillmode": "overlay",
              "size": 10,
              "solidity": 0.2
             }
            },
            "type": "barpolar"
           }
          ],
          "carpet": [
           {
            "aaxis": {
             "endlinecolor": "#A2B1C6",
             "gridcolor": "#506784",
             "linecolor": "#506784",
             "minorgridcolor": "#506784",
             "startlinecolor": "#A2B1C6"
            },
            "baxis": {
             "endlinecolor": "#A2B1C6",
             "gridcolor": "#506784",
             "linecolor": "#506784",
             "minorgridcolor": "#506784",
             "startlinecolor": "#A2B1C6"
            },
            "type": "carpet"
           }
          ],
          "choropleth": [
           {
            "colorbar": {
             "outlinewidth": 0,
             "ticks": ""
            },
            "type": "choropleth"
           }
          ],
          "contour": [
           {
            "colorbar": {
             "outlinewidth": 0,
             "ticks": ""
            },
            "colorscale": [
             [
              0,
              "#0d0887"
             ],
             [
              0.1111111111111111,
              "#46039f"
             ],
             [
              0.2222222222222222,
              "#7201a8"
             ],
             [
              0.3333333333333333,
              "#9c179e"
             ],
             [
              0.4444444444444444,
              "#bd3786"
             ],
             [
              0.5555555555555556,
              "#d8576b"
             ],
             [
              0.6666666666666666,
              "#ed7953"
             ],
             [
              0.7777777777777778,
              "#fb9f3a"
             ],
             [
              0.8888888888888888,
              "#fdca26"
             ],
             [
              1,
              "#f0f921"
             ]
            ],
            "type": "contour"
           }
          ],
          "contourcarpet": [
           {
            "colorbar": {
             "outlinewidth": 0,
             "ticks": ""
            },
            "type": "contourcarpet"
           }
          ],
          "heatmap": [
           {
            "colorbar": {
             "outlinewidth": 0,
             "ticks": ""
            },
            "colorscale": [
             [
              0,
              "#0d0887"
             ],
             [
              0.1111111111111111,
              "#46039f"
             ],
             [
              0.2222222222222222,
              "#7201a8"
             ],
             [
              0.3333333333333333,
              "#9c179e"
             ],
             [
              0.4444444444444444,
              "#bd3786"
             ],
             [
              0.5555555555555556,
              "#d8576b"
             ],
             [
              0.6666666666666666,
              "#ed7953"
             ],
             [
              0.7777777777777778,
              "#fb9f3a"
             ],
             [
              0.8888888888888888,
              "#fdca26"
             ],
             [
              1,
              "#f0f921"
             ]
            ],
            "type": "heatmap"
           }
          ],
          "heatmapgl": [
           {
            "colorbar": {
             "outlinewidth": 0,
             "ticks": ""
            },
            "colorscale": [
             [
              0,
              "#0d0887"
             ],
             [
              0.1111111111111111,
              "#46039f"
             ],
             [
              0.2222222222222222,
              "#7201a8"
             ],
             [
              0.3333333333333333,
              "#9c179e"
             ],
             [
              0.4444444444444444,
              "#bd3786"
             ],
             [
              0.5555555555555556,
              "#d8576b"
             ],
             [
              0.6666666666666666,
              "#ed7953"
             ],
             [
              0.7777777777777778,
              "#fb9f3a"
             ],
             [
              0.8888888888888888,
              "#fdca26"
             ],
             [
              1,
              "#f0f921"
             ]
            ],
            "type": "heatmapgl"
           }
          ],
          "histogram": [
           {
            "marker": {
             "pattern": {
              "fillmode": "overlay",
              "size": 10,
              "solidity": 0.2
             }
            },
            "type": "histogram"
           }
          ],
          "histogram2d": [
           {
            "colorbar": {
             "outlinewidth": 0,
             "ticks": ""
            },
            "colorscale": [
             [
              0,
              "#0d0887"
             ],
             [
              0.1111111111111111,
              "#46039f"
             ],
             [
              0.2222222222222222,
              "#7201a8"
             ],
             [
              0.3333333333333333,
              "#9c179e"
             ],
             [
              0.4444444444444444,
              "#bd3786"
             ],
             [
              0.5555555555555556,
              "#d8576b"
             ],
             [
              0.6666666666666666,
              "#ed7953"
             ],
             [
              0.7777777777777778,
              "#fb9f3a"
             ],
             [
              0.8888888888888888,
              "#fdca26"
             ],
             [
              1,
              "#f0f921"
             ]
            ],
            "type": "histogram2d"
           }
          ],
          "histogram2dcontour": [
           {
            "colorbar": {
             "outlinewidth": 0,
             "ticks": ""
            },
            "colorscale": [
             [
              0,
              "#0d0887"
             ],
             [
              0.1111111111111111,
              "#46039f"
             ],
             [
              0.2222222222222222,
              "#7201a8"
             ],
             [
              0.3333333333333333,
              "#9c179e"
             ],
             [
              0.4444444444444444,
              "#bd3786"
             ],
             [
              0.5555555555555556,
              "#d8576b"
             ],
             [
              0.6666666666666666,
              "#ed7953"
             ],
             [
              0.7777777777777778,
              "#fb9f3a"
             ],
             [
              0.8888888888888888,
              "#fdca26"
             ],
             [
              1,
              "#f0f921"
             ]
            ],
            "type": "histogram2dcontour"
           }
          ],
          "mesh3d": [
           {
            "colorbar": {
             "outlinewidth": 0,
             "ticks": ""
            },
            "type": "mesh3d"
           }
          ],
          "parcoords": [
           {
            "line": {
             "colorbar": {
              "outlinewidth": 0,
              "ticks": ""
             }
            },
            "type": "parcoords"
           }
          ],
          "pie": [
           {
            "automargin": true,
            "type": "pie"
           }
          ],
          "scatter": [
           {
            "marker": {
             "line": {
              "color": "#283442"
             }
            },
            "type": "scatter"
           }
          ],
          "scatter3d": [
           {
            "line": {
             "colorbar": {
              "outlinewidth": 0,
              "ticks": ""
             }
            },
            "marker": {
             "colorbar": {
              "outlinewidth": 0,
              "ticks": ""
             }
            },
            "type": "scatter3d"
           }
          ],
          "scattercarpet": [
           {
            "marker": {
             "colorbar": {
              "outlinewidth": 0,
              "ticks": ""
             }
            },
            "type": "scattercarpet"
           }
          ],
          "scattergeo": [
           {
            "marker": {
             "colorbar": {
              "outlinewidth": 0,
              "ticks": ""
             }
            },
            "type": "scattergeo"
           }
          ],
          "scattergl": [
           {
            "marker": {
             "line": {
              "color": "#283442"
             }
            },
            "type": "scattergl"
           }
          ],
          "scattermapbox": [
           {
            "marker": {
             "colorbar": {
              "outlinewidth": 0,
              "ticks": ""
             }
            },
            "type": "scattermapbox"
           }
          ],
          "scatterpolar": [
           {
            "marker": {
             "colorbar": {
              "outlinewidth": 0,
              "ticks": ""
             }
            },
            "type": "scatterpolar"
           }
          ],
          "scatterpolargl": [
           {
            "marker": {
             "colorbar": {
              "outlinewidth": 0,
              "ticks": ""
             }
            },
            "type": "scatterpolargl"
           }
          ],
          "scatterternary": [
           {
            "marker": {
             "colorbar": {
              "outlinewidth": 0,
              "ticks": ""
             }
            },
            "type": "scatterternary"
           }
          ],
          "surface": [
           {
            "colorbar": {
             "outlinewidth": 0,
             "ticks": ""
            },
            "colorscale": [
             [
              0,
              "#0d0887"
             ],
             [
              0.1111111111111111,
              "#46039f"
             ],
             [
              0.2222222222222222,
              "#7201a8"
             ],
             [
              0.3333333333333333,
              "#9c179e"
             ],
             [
              0.4444444444444444,
              "#bd3786"
             ],
             [
              0.5555555555555556,
              "#d8576b"
             ],
             [
              0.6666666666666666,
              "#ed7953"
             ],
             [
              0.7777777777777778,
              "#fb9f3a"
             ],
             [
              0.8888888888888888,
              "#fdca26"
             ],
             [
              1,
              "#f0f921"
             ]
            ],
            "type": "surface"
           }
          ],
          "table": [
           {
            "cells": {
             "fill": {
              "color": "#506784"
             },
             "line": {
              "color": "rgb(17,17,17)"
             }
            },
            "header": {
             "fill": {
              "color": "#2a3f5f"
             },
             "line": {
              "color": "rgb(17,17,17)"
             }
            },
            "type": "table"
           }
          ]
         },
         "layout": {
          "annotationdefaults": {
           "arrowcolor": "#f2f5fa",
           "arrowhead": 0,
           "arrowwidth": 1
          },
          "autotypenumbers": "strict",
          "coloraxis": {
           "colorbar": {
            "outlinewidth": 0,
            "ticks": ""
           }
          },
          "colorscale": {
           "diverging": [
            [
             0,
             "#8e0152"
            ],
            [
             0.1,
             "#c51b7d"
            ],
            [
             0.2,
             "#de77ae"
            ],
            [
             0.3,
             "#f1b6da"
            ],
            [
             0.4,
             "#fde0ef"
            ],
            [
             0.5,
             "#f7f7f7"
            ],
            [
             0.6,
             "#e6f5d0"
            ],
            [
             0.7,
             "#b8e186"
            ],
            [
             0.8,
             "#7fbc41"
            ],
            [
             0.9,
             "#4d9221"
            ],
            [
             1,
             "#276419"
            ]
           ],
           "sequential": [
            [
             0,
             "#0d0887"
            ],
            [
             0.1111111111111111,
             "#46039f"
            ],
            [
             0.2222222222222222,
             "#7201a8"
            ],
            [
             0.3333333333333333,
             "#9c179e"
            ],
            [
             0.4444444444444444,
             "#bd3786"
            ],
            [
             0.5555555555555556,
             "#d8576b"
            ],
            [
             0.6666666666666666,
             "#ed7953"
            ],
            [
             0.7777777777777778,
             "#fb9f3a"
            ],
            [
             0.8888888888888888,
             "#fdca26"
            ],
            [
             1,
             "#f0f921"
            ]
           ],
           "sequentialminus": [
            [
             0,
             "#0d0887"
            ],
            [
             0.1111111111111111,
             "#46039f"
            ],
            [
             0.2222222222222222,
             "#7201a8"
            ],
            [
             0.3333333333333333,
             "#9c179e"
            ],
            [
             0.4444444444444444,
             "#bd3786"
            ],
            [
             0.5555555555555556,
             "#d8576b"
            ],
            [
             0.6666666666666666,
             "#ed7953"
            ],
            [
             0.7777777777777778,
             "#fb9f3a"
            ],
            [
             0.8888888888888888,
             "#fdca26"
            ],
            [
             1,
             "#f0f921"
            ]
           ]
          },
          "colorway": [
           "#636efa",
           "#EF553B",
           "#00cc96",
           "#ab63fa",
           "#FFA15A",
           "#19d3f3",
           "#FF6692",
           "#B6E880",
           "#FF97FF",
           "#FECB52"
          ],
          "font": {
           "color": "#f2f5fa"
          },
          "geo": {
           "bgcolor": "rgb(17,17,17)",
           "lakecolor": "rgb(17,17,17)",
           "landcolor": "rgb(17,17,17)",
           "showlakes": true,
           "showland": true,
           "subunitcolor": "#506784"
          },
          "hoverlabel": {
           "align": "left"
          },
          "hovermode": "closest",
          "mapbox": {
           "style": "dark"
          },
          "paper_bgcolor": "rgb(17,17,17)",
          "plot_bgcolor": "rgb(17,17,17)",
          "polar": {
           "angularaxis": {
            "gridcolor": "#506784",
            "linecolor": "#506784",
            "ticks": ""
           },
           "bgcolor": "rgb(17,17,17)",
           "radialaxis": {
            "gridcolor": "#506784",
            "linecolor": "#506784",
            "ticks": ""
           }
          },
          "scene": {
           "xaxis": {
            "backgroundcolor": "rgb(17,17,17)",
            "gridcolor": "#506784",
            "gridwidth": 2,
            "linecolor": "#506784",
            "showbackground": true,
            "ticks": "",
            "zerolinecolor": "#C8D4E3"
           },
           "yaxis": {
            "backgroundcolor": "rgb(17,17,17)",
            "gridcolor": "#506784",
            "gridwidth": 2,
            "linecolor": "#506784",
            "showbackground": true,
            "ticks": "",
            "zerolinecolor": "#C8D4E3"
           },
           "zaxis": {
            "backgroundcolor": "rgb(17,17,17)",
            "gridcolor": "#506784",
            "gridwidth": 2,
            "linecolor": "#506784",
            "showbackground": true,
            "ticks": "",
            "zerolinecolor": "#C8D4E3"
           }
          },
          "shapedefaults": {
           "line": {
            "color": "#f2f5fa"
           }
          },
          "sliderdefaults": {
           "bgcolor": "#C8D4E3",
           "bordercolor": "rgb(17,17,17)",
           "borderwidth": 1,
           "tickwidth": 0
          },
          "ternary": {
           "aaxis": {
            "gridcolor": "#506784",
            "linecolor": "#506784",
            "ticks": ""
           },
           "baxis": {
            "gridcolor": "#506784",
            "linecolor": "#506784",
            "ticks": ""
           },
           "bgcolor": "rgb(17,17,17)",
           "caxis": {
            "gridcolor": "#506784",
            "linecolor": "#506784",
            "ticks": ""
           }
          },
          "title": {
           "x": 0.05
          },
          "updatemenudefaults": {
           "bgcolor": "#506784",
           "borderwidth": 0
          },
          "xaxis": {
           "automargin": true,
           "gridcolor": "#283442",
           "linecolor": "#506784",
           "ticks": "",
           "title": {
            "standoff": 15
           },
           "zerolinecolor": "#283442",
           "zerolinewidth": 2
          },
          "yaxis": {
           "automargin": true,
           "gridcolor": "#283442",
           "linecolor": "#506784",
           "ticks": "",
           "title": {
            "standoff": 15
           },
           "zerolinecolor": "#283442",
           "zerolinewidth": 2
          }
         }
        },
        "title": {
         "text": "Distribution of Credit Amount by Saving Account Amount Category"
        },
        "xaxis": {
         "anchor": "y",
         "domain": [
          0,
          1
         ],
         "title": {
          "text": "Credit Amount ($)"
         }
        },
        "xaxis2": {
         "anchor": "y2",
         "domain": [
          0,
          1
         ],
         "matches": "x",
         "showgrid": true,
         "showticklabels": false
        },
        "yaxis": {
         "anchor": "x",
         "domain": [
          0,
          0.7326
         ],
         "title": {
          "text": "Count"
         }
        },
        "yaxis2": {
         "anchor": "x2",
         "domain": [
          0.7426,
          1
         ],
         "matches": "y2",
         "showgrid": false,
         "showline": false,
         "showticklabels": false,
         "ticks": ""
        }
       }
      }
     },
     "metadata": {},
     "output_type": "display_data"
    }
   ],
   "source": [
    "#Distribution of credit amoint by saving amount category\n",
    "fig = px.histogram(df,\n",
    "    x = df['Credit amount'],\n",
    "    color = df['Saving accounts'],\n",
    "    template = 'plotly_dark',\n",
    "    marginal = 'box',\n",
    "    color_discrete_sequence = px.colors.sequential.deep)\n",
    "\n",
    "fig.update_layout(barmode = 'group',\n",
    "    yaxis_title = 'Count',\n",
    "    xaxis_title = 'Credit Amount ($)',\n",
    "    title = 'Distribution of Credit Amount by Saving Account Amount Category')"
   ]
  },
  {
   "cell_type": "code",
   "execution_count": 16,
   "metadata": {},
   "outputs": [
    {
     "data": {
      "application/vnd.plotly.v1+json": {
       "config": {
        "plotlyServerURL": "https://plot.ly"
       },
       "data": [
        {
         "alignmentgroup": "True",
         "bingroup": "x",
         "hovertemplate": "Checking account=little<br>Credit amount=%{x}<br>count=%{y}<extra></extra>",
         "legendgroup": "little",
         "marker": {
          "color": "rgb(253, 253, 204)",
          "pattern": {
           "shape": ""
          }
         },
         "name": "little",
         "offsetgroup": "little",
         "orientation": "v",
         "showlegend": true,
         "type": "histogram",
         "x": [
          1169,
          2096,
          7882,
          4870,
          9055,
          2835,
          3059,
          4308,
          1199,
          1403,
          1282,
          2424,
          8072,
          3430,
          2134,
          2647,
          2241,
          2069,
          1374,
          426,
          6836,
          4020,
          1264,
          6110,
          2333,
          6187,
          6143,
          1393,
          2299,
          1352,
          7228,
          2073,
          1262,
          3378,
          783,
          9566,
          6229,
          3181,
          5190,
          2171,
          1819,
          2394,
          8133,
          730,
          1164,
          1977,
          1526,
          3965,
          9436,
          5943,
          1213,
          1568,
          1755,
          2315,
          1412,
          2249,
          1108,
          618,
          1409,
          797,
          2012,
          1469,
          932,
          2445,
          6458,
          7721,
          7855,
          1680,
          3578,
          7174,
          2132,
          4281,
          1835,
          3868,
          1768,
          2121,
          701,
          3499,
          6887,
          2708,
          1984,
          10144,
          1240,
          8613,
          3416,
          2462,
          2288,
          860,
          682,
          5371,
          1582,
          1346,
          1924,
          1282,
          1288,
          339,
          1898,
          2872,
          1055,
          1262,
          909,
          2978,
          1131,
          3972,
          950,
          763,
          3414,
          7485,
          2577,
          338,
          1963,
          571,
          9572,
          1647,
          3777,
          1360,
          674,
          4591,
          2108,
          1382,
          936,
          1168,
          5117,
          902,
          1495,
          10623,
          1935,
          6568,
          1413,
          3074,
          3835,
          5293,
          3342,
          3104,
          3021,
          1364,
          1200,
          707,
          2978,
          4657,
          2613,
          7865,
          1478,
          3149,
          2507,
          2141,
          1544,
          1823,
          1291,
          2522,
          915,
          1595,
          4605,
          1185,
          3447,
          1258,
          717,
          1204,
          433,
          666,
          4151,
          2684,
          2149,
          3812,
          1154,
          1657,
          1603,
          5302,
          2748,
          1231,
          6304,
          1533,
          8978,
          999,
          2662,
          1402,
          11998,
          2697,
          2404,
          1262,
          4611,
          1901,
          3368,
          1574,
          1520,
          10722,
          4788,
          1024,
          1076,
          6419,
          7629,
          4675,
          1287,
          2515,
          672,
          1038,
          10127,
          1543,
          4811,
          727,
          5511,
          2746,
          708,
          701,
          3643,
          1938,
          2910,
          2659,
          1028,
          3398,
          5801,
          1525,
          6615,
          1864,
          11590,
          4110,
          3384,
          1275,
          4169,
          3599,
          1459,
          1743,
          1236,
          3229,
          6199,
          727,
          2331,
          4463,
          776,
          2406,
          1766,
          2473,
          1542,
          3850,
          3650,
          3446,
          3079,
          6070,
          2146,
          13756,
          7685,
          2320,
          846,
          362,
          2212,
          1283,
          4272,
          2238,
          1126,
          1449,
          1820,
          3249,
          1957,
          2406,
          2578,
          2348,
          1516,
          1473,
          8648,
          802,
          2197,
          1053,
          3235,
          7253,
          2292,
          1597,
          1381,
          5842,
          2579,
          8471,
          2782,
          3186,
          1591,
          2743,
          1149,
          1313,
          1190,
          3448,
          1872,
          2058,
          2136,
          660,
          1287,
          3394,
          1884,
          1620,
          719,
          1244,
          1842,
          11054,
          518,
          2759,
          2670,
          4817,
          2679,
          3905,
          3386,
          343,
          4594,
          3620,
          1721,
          1950,
          2924,
          1659,
          7238,
          2764,
          4679,
          448,
          654,
          1238,
          3114,
          2569,
          1478,
          3622,
          960,
          1163,
          3077,
          3757,
          1418,
          3518,
          1934,
          1237,
          2122,
          2996,
          1585,
          3123,
          5493,
          1207,
          1309,
          1413,
          8588,
          759,
          4686,
          2255,
          609,
          1361,
          7127,
          1203,
          700,
          5507,
          3190,
          7119,
          3488,
          1532,
          1503,
          2302,
          662,
          1503,
          1311,
          3105,
          1374,
          7763,
          2032,
          6350,
          1255,
          1333,
          2022,
          1552,
          626,
          8858,
          996,
          1750,
          6999,
          5003,
          3552,
          2964,
          1546,
          1372,
          2578,
          6758,
          3234,
          5954,
          5433,
          806,
          2788,
          1927,
          937,
          1388,
          2133,
          2039,
          2799,
          1289,
          1217,
          2246,
          385,
          1572,
          1358,
          1442,
          2775,
          3863,
          3349,
          2828,
          4526,
          2051,
          1300,
          741,
          3357,
          3632,
          1808,
          3676,
          640,
          1530,
          3914,
          1858,
          2600,
          1979,
          4042,
          3832,
          3660,
          1553,
          1980,
          1393,
          1376,
          15653,
          1493,
          4370,
          750,
          4623,
          1851,
          1880,
          7980,
          4583,
          1386,
          684,
          7476,
          2303,
          2346,
          3973,
          10222,
          900,
          2241,
          6314,
          3609,
          4843,
          4139,
          5742,
          10366,
          2080,
          2580,
          4530,
          5150,
          2384,
          1453,
          1538,
          2279,
          1478,
          5103,
          6527,
          2753,
          3651,
          975,
          4716,
          2284,
          1236,
          926,
          1800,
          1123,
          6331,
          5324,
          629,
          1198,
          2476,
          1138,
          7596,
          3077,
          1505,
          1228,
          2570,
          250,
          1316,
          1882,
          1987,
          2603,
          3380,
          4380,
          6761,
          2325,
          3160,
          2483,
          14179,
          1797,
          2511,
          1274,
          5248,
          3029,
          428,
          976,
          5771,
          1555,
          1285,
          1393,
          691,
          5045,
          2124,
          2214,
          12680,
          2463,
          3108,
          2901,
          1655,
          2812,
          8065,
          3275,
          2223,
          1371,
          3535,
          3509,
          5711,
          1940,
          2675,
          2751,
          5998,
          6313,
          1221,
          3062,
          2301,
          7511,
          1258,
          717,
          1597,
          4272,
          976,
          9271,
          930,
          9629,
          3051,
          3931,
          1338,
          1554,
          15857,
          1345,
          1101,
          2712,
          731,
          3780,
          1602,
          3966,
          4165,
          8335,
          2375,
          1216,
          11816,
          1082,
          886,
          601,
          2957,
          2611,
          5179,
          2993,
          1943,
          1559,
          3422,
          6761,
          1249,
          1364,
          709,
          2235,
          4042,
          1471,
          1442,
          10875,
          1474,
          894,
          3343,
          3959,
          3577,
          5804,
          2169,
          2439,
          4526,
          2210,
          2221,
          2389,
          3331,
          7409,
          652,
          7678,
          1382,
          874,
          3590,
          1940,
          3595,
          1422,
          6742,
          7814,
          9277,
          1098,
          795,
          6614,
          7824,
          2442,
          1829,
          2171,
          1169,
          8947,
          2606,
          1592,
          2186,
          4153,
          2625,
          3485,
          10477,
          1386,
          1278,
          1107,
          3763,
          3594,
          4454,
          2142,
          3161,
          2848,
          14896,
          2359,
          3345,
          1817,
          12749,
          1366,
          6872,
          697,
          1049,
          10297,
          1867,
          1344,
          1747,
          1224,
          522,
          1498,
          6842,
          3527,
          1546,
          929,
          1455,
          1845,
          3349,
          2859,
          1533,
          3621,
          2145,
          10974,
          1893,
          1231,
          4006,
          1740,
          3556,
          2397,
          3568,
          7166,
          3939,
          7393,
          1193,
          7297,
          2831,
          2538,
          4844,
          8229,
          2028,
          1433,
          1409,
          6579,
          3565,
          1569,
          1936,
          3959,
          2390,
          1736,
          3857,
          804,
          1845
         ],
         "xaxis": "x",
         "yaxis": "y"
        },
        {
         "alignmentgroup": "True",
         "hovertemplate": "Checking account=little<br>Credit amount=%{x}<extra></extra>",
         "legendgroup": "little",
         "marker": {
          "color": "rgb(253, 253, 204)"
         },
         "name": "little",
         "notched": true,
         "offsetgroup": "little",
         "showlegend": false,
         "type": "box",
         "x": [
          1169,
          2096,
          7882,
          4870,
          9055,
          2835,
          3059,
          4308,
          1199,
          1403,
          1282,
          2424,
          8072,
          3430,
          2134,
          2647,
          2241,
          2069,
          1374,
          426,
          6836,
          4020,
          1264,
          6110,
          2333,
          6187,
          6143,
          1393,
          2299,
          1352,
          7228,
          2073,
          1262,
          3378,
          783,
          9566,
          6229,
          3181,
          5190,
          2171,
          1819,
          2394,
          8133,
          730,
          1164,
          1977,
          1526,
          3965,
          9436,
          5943,
          1213,
          1568,
          1755,
          2315,
          1412,
          2249,
          1108,
          618,
          1409,
          797,
          2012,
          1469,
          932,
          2445,
          6458,
          7721,
          7855,
          1680,
          3578,
          7174,
          2132,
          4281,
          1835,
          3868,
          1768,
          2121,
          701,
          3499,
          6887,
          2708,
          1984,
          10144,
          1240,
          8613,
          3416,
          2462,
          2288,
          860,
          682,
          5371,
          1582,
          1346,
          1924,
          1282,
          1288,
          339,
          1898,
          2872,
          1055,
          1262,
          909,
          2978,
          1131,
          3972,
          950,
          763,
          3414,
          7485,
          2577,
          338,
          1963,
          571,
          9572,
          1647,
          3777,
          1360,
          674,
          4591,
          2108,
          1382,
          936,
          1168,
          5117,
          902,
          1495,
          10623,
          1935,
          6568,
          1413,
          3074,
          3835,
          5293,
          3342,
          3104,
          3021,
          1364,
          1200,
          707,
          2978,
          4657,
          2613,
          7865,
          1478,
          3149,
          2507,
          2141,
          1544,
          1823,
          1291,
          2522,
          915,
          1595,
          4605,
          1185,
          3447,
          1258,
          717,
          1204,
          433,
          666,
          4151,
          2684,
          2149,
          3812,
          1154,
          1657,
          1603,
          5302,
          2748,
          1231,
          6304,
          1533,
          8978,
          999,
          2662,
          1402,
          11998,
          2697,
          2404,
          1262,
          4611,
          1901,
          3368,
          1574,
          1520,
          10722,
          4788,
          1024,
          1076,
          6419,
          7629,
          4675,
          1287,
          2515,
          672,
          1038,
          10127,
          1543,
          4811,
          727,
          5511,
          2746,
          708,
          701,
          3643,
          1938,
          2910,
          2659,
          1028,
          3398,
          5801,
          1525,
          6615,
          1864,
          11590,
          4110,
          3384,
          1275,
          4169,
          3599,
          1459,
          1743,
          1236,
          3229,
          6199,
          727,
          2331,
          4463,
          776,
          2406,
          1766,
          2473,
          1542,
          3850,
          3650,
          3446,
          3079,
          6070,
          2146,
          13756,
          7685,
          2320,
          846,
          362,
          2212,
          1283,
          4272,
          2238,
          1126,
          1449,
          1820,
          3249,
          1957,
          2406,
          2578,
          2348,
          1516,
          1473,
          8648,
          802,
          2197,
          1053,
          3235,
          7253,
          2292,
          1597,
          1381,
          5842,
          2579,
          8471,
          2782,
          3186,
          1591,
          2743,
          1149,
          1313,
          1190,
          3448,
          1872,
          2058,
          2136,
          660,
          1287,
          3394,
          1884,
          1620,
          719,
          1244,
          1842,
          11054,
          518,
          2759,
          2670,
          4817,
          2679,
          3905,
          3386,
          343,
          4594,
          3620,
          1721,
          1950,
          2924,
          1659,
          7238,
          2764,
          4679,
          448,
          654,
          1238,
          3114,
          2569,
          1478,
          3622,
          960,
          1163,
          3077,
          3757,
          1418,
          3518,
          1934,
          1237,
          2122,
          2996,
          1585,
          3123,
          5493,
          1207,
          1309,
          1413,
          8588,
          759,
          4686,
          2255,
          609,
          1361,
          7127,
          1203,
          700,
          5507,
          3190,
          7119,
          3488,
          1532,
          1503,
          2302,
          662,
          1503,
          1311,
          3105,
          1374,
          7763,
          2032,
          6350,
          1255,
          1333,
          2022,
          1552,
          626,
          8858,
          996,
          1750,
          6999,
          5003,
          3552,
          2964,
          1546,
          1372,
          2578,
          6758,
          3234,
          5954,
          5433,
          806,
          2788,
          1927,
          937,
          1388,
          2133,
          2039,
          2799,
          1289,
          1217,
          2246,
          385,
          1572,
          1358,
          1442,
          2775,
          3863,
          3349,
          2828,
          4526,
          2051,
          1300,
          741,
          3357,
          3632,
          1808,
          3676,
          640,
          1530,
          3914,
          1858,
          2600,
          1979,
          4042,
          3832,
          3660,
          1553,
          1980,
          1393,
          1376,
          15653,
          1493,
          4370,
          750,
          4623,
          1851,
          1880,
          7980,
          4583,
          1386,
          684,
          7476,
          2303,
          2346,
          3973,
          10222,
          900,
          2241,
          6314,
          3609,
          4843,
          4139,
          5742,
          10366,
          2080,
          2580,
          4530,
          5150,
          2384,
          1453,
          1538,
          2279,
          1478,
          5103,
          6527,
          2753,
          3651,
          975,
          4716,
          2284,
          1236,
          926,
          1800,
          1123,
          6331,
          5324,
          629,
          1198,
          2476,
          1138,
          7596,
          3077,
          1505,
          1228,
          2570,
          250,
          1316,
          1882,
          1987,
          2603,
          3380,
          4380,
          6761,
          2325,
          3160,
          2483,
          14179,
          1797,
          2511,
          1274,
          5248,
          3029,
          428,
          976,
          5771,
          1555,
          1285,
          1393,
          691,
          5045,
          2124,
          2214,
          12680,
          2463,
          3108,
          2901,
          1655,
          2812,
          8065,
          3275,
          2223,
          1371,
          3535,
          3509,
          5711,
          1940,
          2675,
          2751,
          5998,
          6313,
          1221,
          3062,
          2301,
          7511,
          1258,
          717,
          1597,
          4272,
          976,
          9271,
          930,
          9629,
          3051,
          3931,
          1338,
          1554,
          15857,
          1345,
          1101,
          2712,
          731,
          3780,
          1602,
          3966,
          4165,
          8335,
          2375,
          1216,
          11816,
          1082,
          886,
          601,
          2957,
          2611,
          5179,
          2993,
          1943,
          1559,
          3422,
          6761,
          1249,
          1364,
          709,
          2235,
          4042,
          1471,
          1442,
          10875,
          1474,
          894,
          3343,
          3959,
          3577,
          5804,
          2169,
          2439,
          4526,
          2210,
          2221,
          2389,
          3331,
          7409,
          652,
          7678,
          1382,
          874,
          3590,
          1940,
          3595,
          1422,
          6742,
          7814,
          9277,
          1098,
          795,
          6614,
          7824,
          2442,
          1829,
          2171,
          1169,
          8947,
          2606,
          1592,
          2186,
          4153,
          2625,
          3485,
          10477,
          1386,
          1278,
          1107,
          3763,
          3594,
          4454,
          2142,
          3161,
          2848,
          14896,
          2359,
          3345,
          1817,
          12749,
          1366,
          6872,
          697,
          1049,
          10297,
          1867,
          1344,
          1747,
          1224,
          522,
          1498,
          6842,
          3527,
          1546,
          929,
          1455,
          1845,
          3349,
          2859,
          1533,
          3621,
          2145,
          10974,
          1893,
          1231,
          4006,
          1740,
          3556,
          2397,
          3568,
          7166,
          3939,
          7393,
          1193,
          7297,
          2831,
          2538,
          4844,
          8229,
          2028,
          1433,
          1409,
          6579,
          3565,
          1569,
          1936,
          3959,
          2390,
          1736,
          3857,
          804,
          1845
         ],
         "xaxis": "x2",
         "yaxis": "y2"
        },
        {
         "alignmentgroup": "True",
         "bingroup": "x",
         "hovertemplate": "Checking account=moderate<br>Credit amount=%{x}<br>count=%{y}<extra></extra>",
         "legendgroup": "moderate",
         "marker": {
          "color": "rgb(206, 236, 179)",
          "pattern": {
           "shape": ""
          }
         },
         "name": "moderate",
         "offsetgroup": "moderate",
         "orientation": "v",
         "showlegend": true,
         "type": "histogram",
         "x": [
          5951,
          6948,
          5234,
          1295,
          1567,
          12579,
          1804,
          2415,
          1913,
          5866,
          4746,
          458,
          1158,
          6204,
          2333,
          5965,
          2225,
          6468,
          1391,
          1537,
          1953,
          14421,
          1007,
          5954,
          4771,
          3832,
          1295,
          12612,
          1318,
          15945,
          2622,
          2337,
          7057,
          2323,
          1919,
          11938,
          6078,
          1410,
          1449,
          6260,
          2366,
          1924,
          639,
          1860,
          8487,
          766,
          2728,
          4795,
          3566,
          7758,
          6967,
          3512,
          7308,
          1577,
          1935,
          2064,
          1414,
          4455,
          884,
          5129,
          1175,
          3244,
          3844,
          3915,
          3031,
          1501,
          951,
          2760,
          4297,
          1424,
          932,
          625,
          10961,
          866,
          14555,
          2767,
          2150,
          2030,
          7418,
          802,
          12169,
          3060,
          3878,
          7582,
          1092,
          9398,
          9960,
          2745,
          3804,
          1237,
          276,
          5381,
          685,
          4351,
          4249,
          1068,
          7408,
          2101,
          1521,
          5743,
          3213,
          4439,
          882,
          3758,
          1136,
          959,
          1246,
          1239,
          3001,
          14782,
          14318,
          12976,
          7374,
          2326,
          983,
          11760,
          1223,
          1887,
          2899,
          2039,
          1967,
          1042,
          2028,
          958,
          2762,
          2779,
          11328,
          1484,
          2629,
          5096,
          2576,
          1512,
          3017,
          754,
          3092,
          1245,
          1037,
          3573,
          1201,
          1209,
          8318,
          368,
          9034,
          1301,
          1216,
          6850,
          585,
          1113,
          7966,
          2273,
          2631,
          3612,
          1534,
          1995,
          1199,
          1331,
          2278,
          1928,
          12389,
          4712,
          1553,
          3979,
          1082,
          2930,
          2820,
          1056,
          3124,
          2384,
          1965,
          2718,
          931,
          4241,
          2329,
          918,
          1837,
          2671,
          12204,
          9157,
          3441,
          3652,
          1437,
          1444,
          1355,
          1308,
          1922,
          8086,
          888,
          4221,
          6361,
          1050,
          3496,
          5595,
          9857,
          2862,
          2631,
          2896,
          1103,
          2503,
          2528,
          6560,
          2969,
          1206,
          2118,
          14027,
          6148,
          433,
          790,
          6416,
          6403,
          760,
          3990,
          11560,
          4280,
          1048,
          841,
          1155,
          3617,
          3872,
          4933,
          1410,
          836,
          6468,
          1941,
          6224,
          1188,
          1549,
          1795,
          7472,
          590,
          9283,
          1778,
          907,
          484,
          7432,
          6681,
          5084,
          3976,
          1322,
          2181,
          4057,
          2825,
          15672,
          5800,
          3711,
          3195,
          4736,
          2991,
          18424,
          2002,
          1670,
          1919,
          2063,
          6288,
          8358,
          3590,
          4113,
          1154,
          3069,
          2353,
          454,
          1715,
          2520,
          1514,
          753,
          2427,
          1264,
          8386,
          1743,
          4576
         ],
         "xaxis": "x",
         "yaxis": "y"
        },
        {
         "alignmentgroup": "True",
         "hovertemplate": "Checking account=moderate<br>Credit amount=%{x}<extra></extra>",
         "legendgroup": "moderate",
         "marker": {
          "color": "rgb(206, 236, 179)"
         },
         "name": "moderate",
         "notched": true,
         "offsetgroup": "moderate",
         "showlegend": false,
         "type": "box",
         "x": [
          5951,
          6948,
          5234,
          1295,
          1567,
          12579,
          1804,
          2415,
          1913,
          5866,
          4746,
          458,
          1158,
          6204,
          2333,
          5965,
          2225,
          6468,
          1391,
          1537,
          1953,
          14421,
          1007,
          5954,
          4771,
          3832,
          1295,
          12612,
          1318,
          15945,
          2622,
          2337,
          7057,
          2323,
          1919,
          11938,
          6078,
          1410,
          1449,
          6260,
          2366,
          1924,
          639,
          1860,
          8487,
          766,
          2728,
          4795,
          3566,
          7758,
          6967,
          3512,
          7308,
          1577,
          1935,
          2064,
          1414,
          4455,
          884,
          5129,
          1175,
          3244,
          3844,
          3915,
          3031,
          1501,
          951,
          2760,
          4297,
          1424,
          932,
          625,
          10961,
          866,
          14555,
          2767,
          2150,
          2030,
          7418,
          802,
          12169,
          3060,
          3878,
          7582,
          1092,
          9398,
          9960,
          2745,
          3804,
          1237,
          276,
          5381,
          685,
          4351,
          4249,
          1068,
          7408,
          2101,
          1521,
          5743,
          3213,
          4439,
          882,
          3758,
          1136,
          959,
          1246,
          1239,
          3001,
          14782,
          14318,
          12976,
          7374,
          2326,
          983,
          11760,
          1223,
          1887,
          2899,
          2039,
          1967,
          1042,
          2028,
          958,
          2762,
          2779,
          11328,
          1484,
          2629,
          5096,
          2576,
          1512,
          3017,
          754,
          3092,
          1245,
          1037,
          3573,
          1201,
          1209,
          8318,
          368,
          9034,
          1301,
          1216,
          6850,
          585,
          1113,
          7966,
          2273,
          2631,
          3612,
          1534,
          1995,
          1199,
          1331,
          2278,
          1928,
          12389,
          4712,
          1553,
          3979,
          1082,
          2930,
          2820,
          1056,
          3124,
          2384,
          1965,
          2718,
          931,
          4241,
          2329,
          918,
          1837,
          2671,
          12204,
          9157,
          3441,
          3652,
          1437,
          1444,
          1355,
          1308,
          1922,
          8086,
          888,
          4221,
          6361,
          1050,
          3496,
          5595,
          9857,
          2862,
          2631,
          2896,
          1103,
          2503,
          2528,
          6560,
          2969,
          1206,
          2118,
          14027,
          6148,
          433,
          790,
          6416,
          6403,
          760,
          3990,
          11560,
          4280,
          1048,
          841,
          1155,
          3617,
          3872,
          4933,
          1410,
          836,
          6468,
          1941,
          6224,
          1188,
          1549,
          1795,
          7472,
          590,
          9283,
          1778,
          907,
          484,
          7432,
          6681,
          5084,
          3976,
          1322,
          2181,
          4057,
          2825,
          15672,
          5800,
          3711,
          3195,
          4736,
          2991,
          18424,
          2002,
          1670,
          1919,
          2063,
          6288,
          8358,
          3590,
          4113,
          1154,
          3069,
          2353,
          454,
          1715,
          2520,
          1514,
          753,
          2427,
          1264,
          8386,
          1743,
          4576
         ],
         "xaxis": "x2",
         "yaxis": "y2"
        },
        {
         "alignmentgroup": "True",
         "bingroup": "x",
         "hovertemplate": "Checking account=rich<br>Credit amount=%{x}<br>count=%{y}<extra></extra>",
         "legendgroup": "rich",
         "marker": {
          "color": "rgb(156, 219, 165)",
          "pattern": {
           "shape": ""
          }
         },
         "name": "rich",
         "offsetgroup": "rich",
         "orientation": "v",
         "showlegend": true,
         "type": "histogram",
         "x": [
          409,
          1474,
          2100,
          1225,
          1961,
          3617,
          392,
          781,
          1881,
          709,
          5848,
          1908,
          3913,
          4210,
          1925,
          2251,
          1445,
          4796,
          1344,
          3749,
          1494,
          4473,
          3949,
          3399,
          2247,
          1330,
          939,
          609,
          1424,
          5152,
          1323,
          1126,
          2360,
          2687,
          2319,
          3049,
          2864,
          683,
          1275,
          1240,
          2116,
          947,
          1297,
          1047,
          3017,
          1347,
          1905,
          1377,
          3148,
          1337,
          1275,
          1299,
          1271,
          1480,
          2892,
          3016,
          2327,
          1343,
          745,
          3656,
          1258,
          2923,
          6289
         ],
         "xaxis": "x",
         "yaxis": "y"
        },
        {
         "alignmentgroup": "True",
         "hovertemplate": "Checking account=rich<br>Credit amount=%{x}<extra></extra>",
         "legendgroup": "rich",
         "marker": {
          "color": "rgb(156, 219, 165)"
         },
         "name": "rich",
         "notched": true,
         "offsetgroup": "rich",
         "showlegend": false,
         "type": "box",
         "x": [
          409,
          1474,
          2100,
          1225,
          1961,
          3617,
          392,
          781,
          1881,
          709,
          5848,
          1908,
          3913,
          4210,
          1925,
          2251,
          1445,
          4796,
          1344,
          3749,
          1494,
          4473,
          3949,
          3399,
          2247,
          1330,
          939,
          609,
          1424,
          5152,
          1323,
          1126,
          2360,
          2687,
          2319,
          3049,
          2864,
          683,
          1275,
          1240,
          2116,
          947,
          1297,
          1047,
          3017,
          1347,
          1905,
          1377,
          3148,
          1337,
          1275,
          1299,
          1271,
          1480,
          2892,
          3016,
          2327,
          1343,
          745,
          3656,
          1258,
          2923,
          6289
         ],
         "xaxis": "x2",
         "yaxis": "y2"
        }
       ],
       "layout": {
        "barmode": "group",
        "legend": {
         "title": {
          "text": "Checking account"
         },
         "tracegroupgap": 0
        },
        "margin": {
         "t": 60
        },
        "template": {
         "data": {
          "bar": [
           {
            "error_x": {
             "color": "#f2f5fa"
            },
            "error_y": {
             "color": "#f2f5fa"
            },
            "marker": {
             "line": {
              "color": "rgb(17,17,17)",
              "width": 0.5
             },
             "pattern": {
              "fillmode": "overlay",
              "size": 10,
              "solidity": 0.2
             }
            },
            "type": "bar"
           }
          ],
          "barpolar": [
           {
            "marker": {
             "line": {
              "color": "rgb(17,17,17)",
              "width": 0.5
             },
             "pattern": {
              "fillmode": "overlay",
              "size": 10,
              "solidity": 0.2
             }
            },
            "type": "barpolar"
           }
          ],
          "carpet": [
           {
            "aaxis": {
             "endlinecolor": "#A2B1C6",
             "gridcolor": "#506784",
             "linecolor": "#506784",
             "minorgridcolor": "#506784",
             "startlinecolor": "#A2B1C6"
            },
            "baxis": {
             "endlinecolor": "#A2B1C6",
             "gridcolor": "#506784",
             "linecolor": "#506784",
             "minorgridcolor": "#506784",
             "startlinecolor": "#A2B1C6"
            },
            "type": "carpet"
           }
          ],
          "choropleth": [
           {
            "colorbar": {
             "outlinewidth": 0,
             "ticks": ""
            },
            "type": "choropleth"
           }
          ],
          "contour": [
           {
            "colorbar": {
             "outlinewidth": 0,
             "ticks": ""
            },
            "colorscale": [
             [
              0,
              "#0d0887"
             ],
             [
              0.1111111111111111,
              "#46039f"
             ],
             [
              0.2222222222222222,
              "#7201a8"
             ],
             [
              0.3333333333333333,
              "#9c179e"
             ],
             [
              0.4444444444444444,
              "#bd3786"
             ],
             [
              0.5555555555555556,
              "#d8576b"
             ],
             [
              0.6666666666666666,
              "#ed7953"
             ],
             [
              0.7777777777777778,
              "#fb9f3a"
             ],
             [
              0.8888888888888888,
              "#fdca26"
             ],
             [
              1,
              "#f0f921"
             ]
            ],
            "type": "contour"
           }
          ],
          "contourcarpet": [
           {
            "colorbar": {
             "outlinewidth": 0,
             "ticks": ""
            },
            "type": "contourcarpet"
           }
          ],
          "heatmap": [
           {
            "colorbar": {
             "outlinewidth": 0,
             "ticks": ""
            },
            "colorscale": [
             [
              0,
              "#0d0887"
             ],
             [
              0.1111111111111111,
              "#46039f"
             ],
             [
              0.2222222222222222,
              "#7201a8"
             ],
             [
              0.3333333333333333,
              "#9c179e"
             ],
             [
              0.4444444444444444,
              "#bd3786"
             ],
             [
              0.5555555555555556,
              "#d8576b"
             ],
             [
              0.6666666666666666,
              "#ed7953"
             ],
             [
              0.7777777777777778,
              "#fb9f3a"
             ],
             [
              0.8888888888888888,
              "#fdca26"
             ],
             [
              1,
              "#f0f921"
             ]
            ],
            "type": "heatmap"
           }
          ],
          "heatmapgl": [
           {
            "colorbar": {
             "outlinewidth": 0,
             "ticks": ""
            },
            "colorscale": [
             [
              0,
              "#0d0887"
             ],
             [
              0.1111111111111111,
              "#46039f"
             ],
             [
              0.2222222222222222,
              "#7201a8"
             ],
             [
              0.3333333333333333,
              "#9c179e"
             ],
             [
              0.4444444444444444,
              "#bd3786"
             ],
             [
              0.5555555555555556,
              "#d8576b"
             ],
             [
              0.6666666666666666,
              "#ed7953"
             ],
             [
              0.7777777777777778,
              "#fb9f3a"
             ],
             [
              0.8888888888888888,
              "#fdca26"
             ],
             [
              1,
              "#f0f921"
             ]
            ],
            "type": "heatmapgl"
           }
          ],
          "histogram": [
           {
            "marker": {
             "pattern": {
              "fillmode": "overlay",
              "size": 10,
              "solidity": 0.2
             }
            },
            "type": "histogram"
           }
          ],
          "histogram2d": [
           {
            "colorbar": {
             "outlinewidth": 0,
             "ticks": ""
            },
            "colorscale": [
             [
              0,
              "#0d0887"
             ],
             [
              0.1111111111111111,
              "#46039f"
             ],
             [
              0.2222222222222222,
              "#7201a8"
             ],
             [
              0.3333333333333333,
              "#9c179e"
             ],
             [
              0.4444444444444444,
              "#bd3786"
             ],
             [
              0.5555555555555556,
              "#d8576b"
             ],
             [
              0.6666666666666666,
              "#ed7953"
             ],
             [
              0.7777777777777778,
              "#fb9f3a"
             ],
             [
              0.8888888888888888,
              "#fdca26"
             ],
             [
              1,
              "#f0f921"
             ]
            ],
            "type": "histogram2d"
           }
          ],
          "histogram2dcontour": [
           {
            "colorbar": {
             "outlinewidth": 0,
             "ticks": ""
            },
            "colorscale": [
             [
              0,
              "#0d0887"
             ],
             [
              0.1111111111111111,
              "#46039f"
             ],
             [
              0.2222222222222222,
              "#7201a8"
             ],
             [
              0.3333333333333333,
              "#9c179e"
             ],
             [
              0.4444444444444444,
              "#bd3786"
             ],
             [
              0.5555555555555556,
              "#d8576b"
             ],
             [
              0.6666666666666666,
              "#ed7953"
             ],
             [
              0.7777777777777778,
              "#fb9f3a"
             ],
             [
              0.8888888888888888,
              "#fdca26"
             ],
             [
              1,
              "#f0f921"
             ]
            ],
            "type": "histogram2dcontour"
           }
          ],
          "mesh3d": [
           {
            "colorbar": {
             "outlinewidth": 0,
             "ticks": ""
            },
            "type": "mesh3d"
           }
          ],
          "parcoords": [
           {
            "line": {
             "colorbar": {
              "outlinewidth": 0,
              "ticks": ""
             }
            },
            "type": "parcoords"
           }
          ],
          "pie": [
           {
            "automargin": true,
            "type": "pie"
           }
          ],
          "scatter": [
           {
            "marker": {
             "line": {
              "color": "#283442"
             }
            },
            "type": "scatter"
           }
          ],
          "scatter3d": [
           {
            "line": {
             "colorbar": {
              "outlinewidth": 0,
              "ticks": ""
             }
            },
            "marker": {
             "colorbar": {
              "outlinewidth": 0,
              "ticks": ""
             }
            },
            "type": "scatter3d"
           }
          ],
          "scattercarpet": [
           {
            "marker": {
             "colorbar": {
              "outlinewidth": 0,
              "ticks": ""
             }
            },
            "type": "scattercarpet"
           }
          ],
          "scattergeo": [
           {
            "marker": {
             "colorbar": {
              "outlinewidth": 0,
              "ticks": ""
             }
            },
            "type": "scattergeo"
           }
          ],
          "scattergl": [
           {
            "marker": {
             "line": {
              "color": "#283442"
             }
            },
            "type": "scattergl"
           }
          ],
          "scattermapbox": [
           {
            "marker": {
             "colorbar": {
              "outlinewidth": 0,
              "ticks": ""
             }
            },
            "type": "scattermapbox"
           }
          ],
          "scatterpolar": [
           {
            "marker": {
             "colorbar": {
              "outlinewidth": 0,
              "ticks": ""
             }
            },
            "type": "scatterpolar"
           }
          ],
          "scatterpolargl": [
           {
            "marker": {
             "colorbar": {
              "outlinewidth": 0,
              "ticks": ""
             }
            },
            "type": "scatterpolargl"
           }
          ],
          "scatterternary": [
           {
            "marker": {
             "colorbar": {
              "outlinewidth": 0,
              "ticks": ""
             }
            },
            "type": "scatterternary"
           }
          ],
          "surface": [
           {
            "colorbar": {
             "outlinewidth": 0,
             "ticks": ""
            },
            "colorscale": [
             [
              0,
              "#0d0887"
             ],
             [
              0.1111111111111111,
              "#46039f"
             ],
             [
              0.2222222222222222,
              "#7201a8"
             ],
             [
              0.3333333333333333,
              "#9c179e"
             ],
             [
              0.4444444444444444,
              "#bd3786"
             ],
             [
              0.5555555555555556,
              "#d8576b"
             ],
             [
              0.6666666666666666,
              "#ed7953"
             ],
             [
              0.7777777777777778,
              "#fb9f3a"
             ],
             [
              0.8888888888888888,
              "#fdca26"
             ],
             [
              1,
              "#f0f921"
             ]
            ],
            "type": "surface"
           }
          ],
          "table": [
           {
            "cells": {
             "fill": {
              "color": "#506784"
             },
             "line": {
              "color": "rgb(17,17,17)"
             }
            },
            "header": {
             "fill": {
              "color": "#2a3f5f"
             },
             "line": {
              "color": "rgb(17,17,17)"
             }
            },
            "type": "table"
           }
          ]
         },
         "layout": {
          "annotationdefaults": {
           "arrowcolor": "#f2f5fa",
           "arrowhead": 0,
           "arrowwidth": 1
          },
          "autotypenumbers": "strict",
          "coloraxis": {
           "colorbar": {
            "outlinewidth": 0,
            "ticks": ""
           }
          },
          "colorscale": {
           "diverging": [
            [
             0,
             "#8e0152"
            ],
            [
             0.1,
             "#c51b7d"
            ],
            [
             0.2,
             "#de77ae"
            ],
            [
             0.3,
             "#f1b6da"
            ],
            [
             0.4,
             "#fde0ef"
            ],
            [
             0.5,
             "#f7f7f7"
            ],
            [
             0.6,
             "#e6f5d0"
            ],
            [
             0.7,
             "#b8e186"
            ],
            [
             0.8,
             "#7fbc41"
            ],
            [
             0.9,
             "#4d9221"
            ],
            [
             1,
             "#276419"
            ]
           ],
           "sequential": [
            [
             0,
             "#0d0887"
            ],
            [
             0.1111111111111111,
             "#46039f"
            ],
            [
             0.2222222222222222,
             "#7201a8"
            ],
            [
             0.3333333333333333,
             "#9c179e"
            ],
            [
             0.4444444444444444,
             "#bd3786"
            ],
            [
             0.5555555555555556,
             "#d8576b"
            ],
            [
             0.6666666666666666,
             "#ed7953"
            ],
            [
             0.7777777777777778,
             "#fb9f3a"
            ],
            [
             0.8888888888888888,
             "#fdca26"
            ],
            [
             1,
             "#f0f921"
            ]
           ],
           "sequentialminus": [
            [
             0,
             "#0d0887"
            ],
            [
             0.1111111111111111,
             "#46039f"
            ],
            [
             0.2222222222222222,
             "#7201a8"
            ],
            [
             0.3333333333333333,
             "#9c179e"
            ],
            [
             0.4444444444444444,
             "#bd3786"
            ],
            [
             0.5555555555555556,
             "#d8576b"
            ],
            [
             0.6666666666666666,
             "#ed7953"
            ],
            [
             0.7777777777777778,
             "#fb9f3a"
            ],
            [
             0.8888888888888888,
             "#fdca26"
            ],
            [
             1,
             "#f0f921"
            ]
           ]
          },
          "colorway": [
           "#636efa",
           "#EF553B",
           "#00cc96",
           "#ab63fa",
           "#FFA15A",
           "#19d3f3",
           "#FF6692",
           "#B6E880",
           "#FF97FF",
           "#FECB52"
          ],
          "font": {
           "color": "#f2f5fa"
          },
          "geo": {
           "bgcolor": "rgb(17,17,17)",
           "lakecolor": "rgb(17,17,17)",
           "landcolor": "rgb(17,17,17)",
           "showlakes": true,
           "showland": true,
           "subunitcolor": "#506784"
          },
          "hoverlabel": {
           "align": "left"
          },
          "hovermode": "closest",
          "mapbox": {
           "style": "dark"
          },
          "paper_bgcolor": "rgb(17,17,17)",
          "plot_bgcolor": "rgb(17,17,17)",
          "polar": {
           "angularaxis": {
            "gridcolor": "#506784",
            "linecolor": "#506784",
            "ticks": ""
           },
           "bgcolor": "rgb(17,17,17)",
           "radialaxis": {
            "gridcolor": "#506784",
            "linecolor": "#506784",
            "ticks": ""
           }
          },
          "scene": {
           "xaxis": {
            "backgroundcolor": "rgb(17,17,17)",
            "gridcolor": "#506784",
            "gridwidth": 2,
            "linecolor": "#506784",
            "showbackground": true,
            "ticks": "",
            "zerolinecolor": "#C8D4E3"
           },
           "yaxis": {
            "backgroundcolor": "rgb(17,17,17)",
            "gridcolor": "#506784",
            "gridwidth": 2,
            "linecolor": "#506784",
            "showbackground": true,
            "ticks": "",
            "zerolinecolor": "#C8D4E3"
           },
           "zaxis": {
            "backgroundcolor": "rgb(17,17,17)",
            "gridcolor": "#506784",
            "gridwidth": 2,
            "linecolor": "#506784",
            "showbackground": true,
            "ticks": "",
            "zerolinecolor": "#C8D4E3"
           }
          },
          "shapedefaults": {
           "line": {
            "color": "#f2f5fa"
           }
          },
          "sliderdefaults": {
           "bgcolor": "#C8D4E3",
           "bordercolor": "rgb(17,17,17)",
           "borderwidth": 1,
           "tickwidth": 0
          },
          "ternary": {
           "aaxis": {
            "gridcolor": "#506784",
            "linecolor": "#506784",
            "ticks": ""
           },
           "baxis": {
            "gridcolor": "#506784",
            "linecolor": "#506784",
            "ticks": ""
           },
           "bgcolor": "rgb(17,17,17)",
           "caxis": {
            "gridcolor": "#506784",
            "linecolor": "#506784",
            "ticks": ""
           }
          },
          "title": {
           "x": 0.05
          },
          "updatemenudefaults": {
           "bgcolor": "#506784",
           "borderwidth": 0
          },
          "xaxis": {
           "automargin": true,
           "gridcolor": "#283442",
           "linecolor": "#506784",
           "ticks": "",
           "title": {
            "standoff": 15
           },
           "zerolinecolor": "#283442",
           "zerolinewidth": 2
          },
          "yaxis": {
           "automargin": true,
           "gridcolor": "#283442",
           "linecolor": "#506784",
           "ticks": "",
           "title": {
            "standoff": 15
           },
           "zerolinecolor": "#283442",
           "zerolinewidth": 2
          }
         }
        },
        "title": {
         "text": "Distribution of Credit Amount by Checking Account Amount Category"
        },
        "xaxis": {
         "anchor": "y",
         "domain": [
          0,
          1
         ],
         "title": {
          "text": "Credit Amount ($)"
         }
        },
        "xaxis2": {
         "anchor": "y2",
         "domain": [
          0,
          1
         ],
         "matches": "x",
         "showgrid": true,
         "showticklabels": false
        },
        "yaxis": {
         "anchor": "x",
         "domain": [
          0,
          0.7326
         ],
         "title": {
          "text": "Count"
         }
        },
        "yaxis2": {
         "anchor": "x2",
         "domain": [
          0.7426,
          1
         ],
         "matches": "y2",
         "showgrid": false,
         "showline": false,
         "showticklabels": false,
         "ticks": ""
        }
       }
      }
     },
     "metadata": {},
     "output_type": "display_data"
    }
   ],
   "source": [
    "fig = px.histogram(df,\n",
    "x = 'Credit amount',\n",
    "color = df['Checking account'],\n",
    "template = 'plotly_dark',\n",
    "marginal = 'box',\n",
    "color_discrete_sequence = px.colors.sequential.deep)\n",
    "\n",
    "fig.update_layout(barmode = 'group',\n",
    "yaxis_title = 'Count',\n",
    "xaxis_title = 'Credit Amount ($)',\n",
    "title = 'Distribution of Credit Amount by Checking Account Amount Category')"
   ]
  },
  {
   "cell_type": "code",
   "execution_count": 39,
   "metadata": {},
   "outputs": [
    {
     "data": {
      "text/plain": [
       "Text(0, 0.5, 'Total Count')"
      ]
     },
     "execution_count": 39,
     "metadata": {},
     "output_type": "execute_result"
    },
    {
     "data": {
      "image/png": "[encoded data removed]",
      "text/plain": [
       "<Figure size 1080x432 with 2 Axes>"
      ]
     },
     "metadata": {},
     "output_type": "display_data"
    }
   ],
   "source": [
    "# Housing vs Saving account\n",
    "plt.subplot(1,2,1)\n",
    "\n",
    "sns.countplot(x = 'Housing',\n",
    "    data = df,\n",
    "    hue = 'Saving accounts',\n",
    "    palette = 'Paired')\n",
    "\n",
    "plt.title('Housing vs Savings Account Amount ($)',fontdict = {'fontsize': 15})\n",
    "plt.ylabel('Total Count')\n",
    "\n",
    "# Housing vs Checking account\n",
    "plt.subplot(1,2,2)\n",
    "fig2 = sns.countplot(x = 'Housing',\n",
    "    data = df,\n",
    "    hue = 'Checking account',\n",
    "    palette = 'Paired')\n",
    "\n",
    "plt.title('Housing type vs Checking Account Amount ($)', fontdict = {'fontsize': 15})\n",
    "plt.ylabel('Total Count')\n"
   ]
  },
  {
   "cell_type": "code",
   "execution_count": 41,
   "metadata": {},
   "outputs": [
    {
     "data": {
      "image/png": "[encoded data removed]",
      "text/plain": [
       "<Figure size 1080x432 with 1 Axes>"
      ]
     },
     "metadata": {},
     "output_type": "display_data"
    },
    {
     "data": {
      "image/png": "[encoded data removed]",
      "text/plain": [
       "<Figure size 1080x432 with 1 Axes>"
      ]
     },
     "metadata": {},
     "output_type": "display_data"
    },
    {
     "data": {
      "image/png": "[encoded data removed]",
      "text/plain": [
       "<Figure size 1080x432 with 1 Axes>"
      ]
     },
     "metadata": {},
     "output_type": "display_data"
    }
   ],
   "source": [
    "#regression plot between age and credit amount\n",
    "sns.regplot(data = df,\n",
    "    x = 'Age', \n",
    "    y = 'Credit amount',\n",
    "    fit_reg = True,\n",
    "    color = 'teal'\n",
    ")\n",
    "\n",
    "plt.title(\"Relation between Age and Credit Amount\", fontdict = {'fontsize': 20})\n",
    "plt.xlabel(\"Age\")\n",
    "plt.ylabel(\"Credit Amount\")\n",
    "\n",
    "plt.show()\n",
    "\n",
    "sns.regplot(data = df, \n",
    "    x = 'Credit amount', \n",
    "    y = 'Duration',\n",
    "    fit_reg = True,\n",
    "    color = 'teal')\n",
    "\n",
    "plt.title(\"Relationship between Credit Amount and Duration\", fontdict = {'fontsize': 20})\n",
    "plt.xlabel(\"Credit Amount ($)\")\n",
    "plt.ylabel(\"Duration (Months)\")\n",
    "\n",
    "plt.show()\n",
    "\n",
    "sns.regplot(data = df, \n",
    "    x = 'Credit amount', \n",
    "    y = 'Job',\n",
    "    fit_reg = True,\n",
    "    color = 'teal')\n",
    "\n",
    "plt.title(\"Relationship between Credit Amount and Job Type\", fontdict = {'fontsize': 20})\n",
    "plt.xlabel(\"Credit Amount ($)\")\n",
    "plt.ylabel(\"Job Type\")\n",
    "plt.yticks([0,1,2,3], ['unskilled and non-resident','unskilled and resident','skilled','highly skilled'])\n",
    "\n",
    "plt.show()\n",
    "\n"
   ]
  }
 ],
 "metadata": {
  "kernelspec": {
   "display_name": "Python 3.7.13 ('base')",
   "language": "python",
   "name": "python3"
  },
  "language_info": {
   "codemirror_mode": {
    "name": "ipython",
    "version": 3
   },
   "file_extension": ".py",
   "mimetype": "text/x-python",
   "name": "python",
   "nbconvert_exporter": "python",
   "pygments_lexer": "ipython3",
   "version": "3.7.13"
  },
  "orig_nbformat": 4,
  "vscode": {
   "interpreter": {
    "hash": "1d500d2b260cd3614e3a6c9a29b2a92ce43bb5df865b5ba04f968493f84b1f1b"
   }
  }
 },
 "nbformat": 4,
 "nbformat_minor": 2
}
